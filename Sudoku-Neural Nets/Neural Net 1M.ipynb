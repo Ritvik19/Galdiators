{
 "cells": [
  {
   "cell_type": "code",
   "execution_count": 1,
   "metadata": {
    "ExecuteTime": {
     "end_time": "2019-12-02T13:07:02.106751Z",
     "start_time": "2019-12-02T13:06:56.520766Z"
    }
   },
   "outputs": [
    {
     "name": "stderr",
     "output_type": "stream",
     "text": [
      "Using TensorFlow backend.\n"
     ]
    }
   ],
   "source": [
    "import numpy as np\n",
    "import pandas as pd\n",
    "\n",
    "from keras import Model, Sequential\n",
    "from keras.callbacks import EarlyStopping\n",
    "from keras.layers import Dense, Dropout, Flatten, Input\n",
    "from keras.utils import to_categorical"
   ]
  },
  {
   "cell_type": "code",
   "execution_count": 2,
   "metadata": {
    "ExecuteTime": {
     "end_time": "2019-12-02T13:07:02.118432Z",
     "start_time": "2019-12-02T13:07:02.109458Z"
    }
   },
   "outputs": [],
   "source": [
    "import logging\n",
    "\n",
    "logger = logging.getLogger(__name__)\n",
    "logger.setLevel(logging.DEBUG)\n",
    "formatter = logging.Formatter('%(asctime)s : %(levelname)s : %(name)s : %(message)s')\n",
    "\n",
    "file_handler = logging.FileHandler('sample.log')\n",
    "file_handler.setFormatter(formatter)\n",
    "\n",
    "stream_handler = logging.StreamHandler()\n",
    "stream_handler.setFormatter(formatter)\n",
    "\n",
    "logger.addHandler(file_handler)\n",
    "logger.addHandler(stream_handler)"
   ]
  },
  {
   "cell_type": "code",
   "execution_count": 3,
   "metadata": {
    "ExecuteTime": {
     "end_time": "2019-12-02T13:07:02.367474Z",
     "start_time": "2019-12-02T13:07:02.129405Z"
    }
   },
   "outputs": [],
   "source": [
    "def load_data(batch_num ,batch_size):\n",
    "    \"\"\"\n",
    "    Function to load data in the keras way.\n",
    "    \n",
    "    Parameters\n",
    "    ----------\n",
    "    n (int): Number of  examples\n",
    "    \n",
    "    Returns\n",
    "    -------\n",
    "    Xtrain, ytrain (np.array, np.array),\n",
    "        shapes (0.8*n, 9, 9), (0.8*n, 9, 9): Training samples\n",
    "    Xtest, ytest (np.array, np.array), \n",
    "        shapes (0.2*n, 9, 9), (0.2*n, 9, 9): Testing samples\n",
    "    \"\"\"\n",
    "    sudokus = pd.read_csv('E:/[Data] Sudoku/sudoku.csv', skiprows=batch_num*batch_size, nrows=batch_size).values\n",
    "        \n",
    "    quizzes, solutions = sudokus.T\n",
    "    flatX = np.array([np.reshape([int(d) for d in flatten_grid], (9, 9))\n",
    "                      for flatten_grid in quizzes])\n",
    "    flaty = np.array([np.reshape([int(d) for d in flatten_grid], (9, 9))\n",
    "                      for flatten_grid in solutions])\n",
    "    threshold = int(0.8*batch_size)\n",
    "    return (flatX[:threshold], flaty[:threshold]), (flatX[threshold:], flaty[threshold:])"
   ]
  },
  {
   "cell_type": "code",
   "execution_count": 4,
   "metadata": {
    "ExecuteTime": {
     "end_time": "2019-12-02T13:07:02.608868Z",
     "start_time": "2019-12-02T13:07:02.379437Z"
    }
   },
   "outputs": [],
   "source": [
    "def diff(grids_true, grids_pred):\n",
    "    \"\"\"\n",
    "    This function shows how well predicted quizzes fit to actual solutions.\n",
    "    It will store sum of differences for each pair (solution, guess)\n",
    "    \n",
    "    Parameters\n",
    "    ----------\n",
    "    grids_true (np.array), shape (?, 9, 9): Real solutions to guess in the digit repesentation\n",
    "    grids_pred (np.array), shape (?, 9, 9): Guesses\n",
    "    \n",
    "    Returns\n",
    "    -------\n",
    "    diff (np.array), shape (?,): Number of differences for each pair (solution, guess)\n",
    "    \"\"\"\n",
    "    return (grids_true != grids_pred).sum((1, 2))"
   ]
  },
  {
   "cell_type": "code",
   "execution_count": 5,
   "metadata": {
    "ExecuteTime": {
     "end_time": "2019-12-02T13:07:02.857880Z",
     "start_time": "2019-12-02T13:07:02.617062Z"
    }
   },
   "outputs": [],
   "source": [
    "def delete_digits(X, n_delet=1):\n",
    "    \"\"\"\n",
    "    This function is used to create sudoku quizzes from solutions\n",
    "    \n",
    "    Parameters\n",
    "    ----------\n",
    "    X (np.array), shape (?, 9, 9, 9|10): input solutions grids.\n",
    "    n_delet (integer): max number of digit to suppress from original solutions\n",
    "    \n",
    "    Returns\n",
    "    -------\n",
    "    grids: np.array of grids to guess in one-hot way. Shape: (?, 9, 9, 10)\n",
    "    \"\"\"\n",
    "    grids = X.argmax(3)  # get the grid in a (9, 9) integer shape\n",
    "    for grid in grids:\n",
    "        grid.flat[np.random.randint(0, 81, n_delet)] = 0  # generate blanks (replace = True)\n",
    "        \n",
    "    return to_categorical(grids)"
   ]
  },
  {
   "cell_type": "code",
   "execution_count": 6,
   "metadata": {
    "ExecuteTime": {
     "end_time": "2019-12-02T13:07:03.109690Z",
     "start_time": "2019-12-02T13:07:02.864901Z"
    }
   },
   "outputs": [],
   "source": [
    "def batch_smart_solve(grids, solver):\n",
    "    \"\"\"   \n",
    "    This function solves quizzes in the \"smart\" way. \n",
    "    It will fill blanks one after the other. Each time a digit is filled, \n",
    "    the new grid will be fed again to the solver to predict the next digit. \n",
    "    Again and again, until there is no more blank\n",
    "    \n",
    "    Parameters\n",
    "    ----------\n",
    "    grids (np.array), shape (?, 9, 9): Batch of quizzes to solve (smartly ;))\n",
    "    solver (keras.model): The neural net solver\n",
    "    \n",
    "    Returns\n",
    "    -------\n",
    "    grids (np.array), shape (?, 9, 9): Smartly solved quizzes.\n",
    "    \"\"\"\n",
    "    grids = grids.copy()\n",
    "    for _ in range((grids == 0).sum((1, 2)).max()):\n",
    "        preds = np.array(solver.predict(to_categorical(grids)))  # get predictions\n",
    "        probs = preds.max(2).T  # get highest probability for each 81 digit to predict\n",
    "        values = preds.argmax(2).T + 1  # get corresponding values\n",
    "        zeros = (grids == 0).reshape((grids.shape[0], 81))  # get blank positions\n",
    "\n",
    "        for grid, prob, value, zero in zip(grids, probs, values, zeros):\n",
    "            if any(zero):  # don't try to fill already completed grid\n",
    "                where = np.where(zero)[0]  # focus on blanks only\n",
    "                confidence_position = where[prob[zero].argmax()]  # best score FOR A ZERO VALUE (confident blank)\n",
    "                confidence_value = value[confidence_position]  # get corresponding value\n",
    "                grid.flat[confidence_position] = confidence_value  # fill digit inplace\n",
    "    return grids"
   ]
  },
  {
   "cell_type": "code",
   "execution_count": 7,
   "metadata": {
    "ExecuteTime": {
     "end_time": "2019-12-02T13:07:11.273146Z",
     "start_time": "2019-12-02T13:07:03.117673Z"
    }
   },
   "outputs": [
    {
     "name": "stdout",
     "output_type": "stream",
     "text": [
      "WARNING:tensorflow:From D:\\Users\\Ritvik\\Anaconda3\\envs\\datascience\\lib\\site-packages\\tensorflow\\python\\framework\\op_def_library.py:263: colocate_with (from tensorflow.python.framework.ops) is deprecated and will be removed in a future version.\n",
      "Instructions for updating:\n",
      "Colocations handled automatically by placer.\n",
      "WARNING:tensorflow:From D:\\Users\\Ritvik\\Anaconda3\\envs\\datascience\\lib\\site-packages\\keras\\backend\\tensorflow_backend.py:3445: calling dropout (from tensorflow.python.ops.nn_ops) with keep_prob is deprecated and will be removed in a future version.\n",
      "Instructions for updating:\n",
      "Please use `rate` instead of `keep_prob`. Rate should be set to `rate = 1 - keep_prob`.\n",
      "Model Compiled\n",
      "__________________________________________________________________________________________________\n",
      "Layer (type)                    Output Shape         Param #     Connected to                     \n",
      "==================================================================================================\n",
      "input_1 (InputLayer)            (None, 9, 9, 10)     0                                            \n",
      "__________________________________________________________________________________________________\n",
      "sequential_1 (Sequential)       (None, 5184)         4864        input_1[0][0]                    \n",
      "__________________________________________________________________________________________________\n",
      "dense_3 (Dense)                 (None, 9)            46665       sequential_1[1][0]               \n",
      "__________________________________________________________________________________________________\n",
      "dense_4 (Dense)                 (None, 9)            46665       sequential_1[1][0]               \n",
      "__________________________________________________________________________________________________\n",
      "dense_5 (Dense)                 (None, 9)            46665       sequential_1[1][0]               \n",
      "__________________________________________________________________________________________________\n",
      "dense_6 (Dense)                 (None, 9)            46665       sequential_1[1][0]               \n",
      "__________________________________________________________________________________________________\n",
      "dense_7 (Dense)                 (None, 9)            46665       sequential_1[1][0]               \n",
      "__________________________________________________________________________________________________\n",
      "dense_8 (Dense)                 (None, 9)            46665       sequential_1[1][0]               \n",
      "__________________________________________________________________________________________________\n",
      "dense_9 (Dense)                 (None, 9)            46665       sequential_1[1][0]               \n",
      "__________________________________________________________________________________________________\n",
      "dense_10 (Dense)                (None, 9)            46665       sequential_1[1][0]               \n",
      "__________________________________________________________________________________________________\n",
      "dense_11 (Dense)                (None, 9)            46665       sequential_1[1][0]               \n",
      "__________________________________________________________________________________________________\n",
      "dense_12 (Dense)                (None, 9)            46665       sequential_1[1][0]               \n",
      "__________________________________________________________________________________________________\n",
      "dense_13 (Dense)                (None, 9)            46665       sequential_1[1][0]               \n",
      "__________________________________________________________________________________________________\n",
      "dense_14 (Dense)                (None, 9)            46665       sequential_1[1][0]               \n",
      "__________________________________________________________________________________________________\n",
      "dense_15 (Dense)                (None, 9)            46665       sequential_1[1][0]               \n",
      "__________________________________________________________________________________________________\n",
      "dense_16 (Dense)                (None, 9)            46665       sequential_1[1][0]               \n",
      "__________________________________________________________________________________________________\n",
      "dense_17 (Dense)                (None, 9)            46665       sequential_1[1][0]               \n",
      "__________________________________________________________________________________________________\n",
      "dense_18 (Dense)                (None, 9)            46665       sequential_1[1][0]               \n",
      "__________________________________________________________________________________________________\n",
      "dense_19 (Dense)                (None, 9)            46665       sequential_1[1][0]               \n",
      "__________________________________________________________________________________________________\n",
      "dense_20 (Dense)                (None, 9)            46665       sequential_1[1][0]               \n",
      "__________________________________________________________________________________________________\n",
      "dense_21 (Dense)                (None, 9)            46665       sequential_1[1][0]               \n",
      "__________________________________________________________________________________________________\n",
      "dense_22 (Dense)                (None, 9)            46665       sequential_1[1][0]               \n",
      "__________________________________________________________________________________________________\n",
      "dense_23 (Dense)                (None, 9)            46665       sequential_1[1][0]               \n",
      "__________________________________________________________________________________________________\n",
      "dense_24 (Dense)                (None, 9)            46665       sequential_1[1][0]               \n",
      "__________________________________________________________________________________________________\n",
      "dense_25 (Dense)                (None, 9)            46665       sequential_1[1][0]               \n",
      "__________________________________________________________________________________________________\n",
      "dense_26 (Dense)                (None, 9)            46665       sequential_1[1][0]               \n",
      "__________________________________________________________________________________________________\n",
      "dense_27 (Dense)                (None, 9)            46665       sequential_1[1][0]               \n",
      "__________________________________________________________________________________________________\n",
      "dense_28 (Dense)                (None, 9)            46665       sequential_1[1][0]               \n",
      "__________________________________________________________________________________________________\n",
      "dense_29 (Dense)                (None, 9)            46665       sequential_1[1][0]               \n",
      "__________________________________________________________________________________________________\n",
      "dense_30 (Dense)                (None, 9)            46665       sequential_1[1][0]               \n",
      "__________________________________________________________________________________________________\n",
      "dense_31 (Dense)                (None, 9)            46665       sequential_1[1][0]               \n",
      "__________________________________________________________________________________________________\n",
      "dense_32 (Dense)                (None, 9)            46665       sequential_1[1][0]               \n",
      "__________________________________________________________________________________________________\n",
      "dense_33 (Dense)                (None, 9)            46665       sequential_1[1][0]               \n",
      "__________________________________________________________________________________________________\n",
      "dense_34 (Dense)                (None, 9)            46665       sequential_1[1][0]               \n",
      "__________________________________________________________________________________________________\n",
      "dense_35 (Dense)                (None, 9)            46665       sequential_1[1][0]               \n",
      "__________________________________________________________________________________________________\n",
      "dense_36 (Dense)                (None, 9)            46665       sequential_1[1][0]               \n",
      "__________________________________________________________________________________________________\n",
      "dense_37 (Dense)                (None, 9)            46665       sequential_1[1][0]               \n",
      "__________________________________________________________________________________________________\n",
      "dense_38 (Dense)                (None, 9)            46665       sequential_1[1][0]               \n",
      "__________________________________________________________________________________________________\n",
      "dense_39 (Dense)                (None, 9)            46665       sequential_1[1][0]               \n",
      "__________________________________________________________________________________________________\n",
      "dense_40 (Dense)                (None, 9)            46665       sequential_1[1][0]               \n",
      "__________________________________________________________________________________________________\n",
      "dense_41 (Dense)                (None, 9)            46665       sequential_1[1][0]               \n",
      "__________________________________________________________________________________________________\n",
      "dense_42 (Dense)                (None, 9)            46665       sequential_1[1][0]               \n",
      "__________________________________________________________________________________________________\n",
      "dense_43 (Dense)                (None, 9)            46665       sequential_1[1][0]               \n",
      "__________________________________________________________________________________________________\n",
      "dense_44 (Dense)                (None, 9)            46665       sequential_1[1][0]               \n",
      "__________________________________________________________________________________________________\n",
      "dense_45 (Dense)                (None, 9)            46665       sequential_1[1][0]               \n",
      "__________________________________________________________________________________________________\n",
      "dense_46 (Dense)                (None, 9)            46665       sequential_1[1][0]               \n",
      "__________________________________________________________________________________________________\n",
      "dense_47 (Dense)                (None, 9)            46665       sequential_1[1][0]               \n",
      "__________________________________________________________________________________________________\n",
      "dense_48 (Dense)                (None, 9)            46665       sequential_1[1][0]               \n",
      "__________________________________________________________________________________________________\n",
      "dense_49 (Dense)                (None, 9)            46665       sequential_1[1][0]               \n",
      "__________________________________________________________________________________________________\n",
      "dense_50 (Dense)                (None, 9)            46665       sequential_1[1][0]               \n",
      "__________________________________________________________________________________________________\n",
      "dense_51 (Dense)                (None, 9)            46665       sequential_1[1][0]               \n",
      "__________________________________________________________________________________________________\n",
      "dense_52 (Dense)                (None, 9)            46665       sequential_1[1][0]               \n",
      "__________________________________________________________________________________________________\n",
      "dense_53 (Dense)                (None, 9)            46665       sequential_1[1][0]               \n",
      "__________________________________________________________________________________________________\n",
      "dense_54 (Dense)                (None, 9)            46665       sequential_1[1][0]               \n",
      "__________________________________________________________________________________________________\n",
      "dense_55 (Dense)                (None, 9)            46665       sequential_1[1][0]               \n",
      "__________________________________________________________________________________________________\n",
      "dense_56 (Dense)                (None, 9)            46665       sequential_1[1][0]               \n",
      "__________________________________________________________________________________________________\n",
      "dense_57 (Dense)                (None, 9)            46665       sequential_1[1][0]               \n",
      "__________________________________________________________________________________________________\n",
      "dense_58 (Dense)                (None, 9)            46665       sequential_1[1][0]               \n",
      "__________________________________________________________________________________________________\n",
      "dense_59 (Dense)                (None, 9)            46665       sequential_1[1][0]               \n",
      "__________________________________________________________________________________________________\n",
      "dense_60 (Dense)                (None, 9)            46665       sequential_1[1][0]               \n",
      "__________________________________________________________________________________________________\n",
      "dense_61 (Dense)                (None, 9)            46665       sequential_1[1][0]               \n",
      "__________________________________________________________________________________________________\n",
      "dense_62 (Dense)                (None, 9)            46665       sequential_1[1][0]               \n",
      "__________________________________________________________________________________________________\n",
      "dense_63 (Dense)                (None, 9)            46665       sequential_1[1][0]               \n",
      "__________________________________________________________________________________________________\n",
      "dense_64 (Dense)                (None, 9)            46665       sequential_1[1][0]               \n",
      "__________________________________________________________________________________________________\n",
      "dense_65 (Dense)                (None, 9)            46665       sequential_1[1][0]               \n",
      "__________________________________________________________________________________________________\n",
      "dense_66 (Dense)                (None, 9)            46665       sequential_1[1][0]               \n",
      "__________________________________________________________________________________________________\n",
      "dense_67 (Dense)                (None, 9)            46665       sequential_1[1][0]               \n",
      "__________________________________________________________________________________________________\n",
      "dense_68 (Dense)                (None, 9)            46665       sequential_1[1][0]               \n",
      "__________________________________________________________________________________________________\n",
      "dense_69 (Dense)                (None, 9)            46665       sequential_1[1][0]               \n",
      "__________________________________________________________________________________________________\n",
      "dense_70 (Dense)                (None, 9)            46665       sequential_1[1][0]               \n",
      "__________________________________________________________________________________________________\n",
      "dense_71 (Dense)                (None, 9)            46665       sequential_1[1][0]               \n",
      "__________________________________________________________________________________________________\n",
      "dense_72 (Dense)                (None, 9)            46665       sequential_1[1][0]               \n",
      "__________________________________________________________________________________________________\n",
      "dense_73 (Dense)                (None, 9)            46665       sequential_1[1][0]               \n",
      "__________________________________________________________________________________________________\n",
      "dense_74 (Dense)                (None, 9)            46665       sequential_1[1][0]               \n",
      "__________________________________________________________________________________________________\n",
      "dense_75 (Dense)                (None, 9)            46665       sequential_1[1][0]               \n",
      "__________________________________________________________________________________________________\n",
      "dense_76 (Dense)                (None, 9)            46665       sequential_1[1][0]               \n",
      "__________________________________________________________________________________________________\n",
      "dense_77 (Dense)                (None, 9)            46665       sequential_1[1][0]               \n",
      "__________________________________________________________________________________________________\n",
      "dense_78 (Dense)                (None, 9)            46665       sequential_1[1][0]               \n",
      "__________________________________________________________________________________________________\n",
      "dense_79 (Dense)                (None, 9)            46665       sequential_1[1][0]               \n",
      "__________________________________________________________________________________________________\n",
      "dense_80 (Dense)                (None, 9)            46665       sequential_1[1][0]               \n",
      "__________________________________________________________________________________________________\n",
      "dense_81 (Dense)                (None, 9)            46665       sequential_1[1][0]               \n",
      "__________________________________________________________________________________________________\n",
      "dense_82 (Dense)                (None, 9)            46665       sequential_1[1][0]               \n",
      "__________________________________________________________________________________________________\n",
      "dense_83 (Dense)                (None, 9)            46665       sequential_1[1][0]               \n",
      "==================================================================================================\n",
      "Total params: 3,784,729\n",
      "Trainable params: 3,784,729\n",
      "Non-trainable params: 0\n",
      "__________________________________________________________________________________________________\n"
     ]
    }
   ],
   "source": [
    "input_shape = (9, 9, 10)\n",
    "\n",
    "model = Sequential()\n",
    "model.add(Dense(64, activation='relu', input_shape=input_shape))\n",
    "model.add(Dropout(0.4))\n",
    "model.add(Dense(64, activation='relu'))\n",
    "model.add(Dropout(0.4))\n",
    "model.add(Flatten())\n",
    "\n",
    "grid = Input(shape=input_shape)  # inputs\n",
    "features = model(grid)  # commons features\n",
    "\n",
    "# define one Dense layer for each of the digit we want to predict\n",
    "digit_placeholders = [\n",
    "    Dense(9, activation='softmax')(features)\n",
    "    for i in range(81)\n",
    "]\n",
    "\n",
    "solver = Model(grid, digit_placeholders)  # build the whole model\n",
    "solver.compile(\n",
    "    optimizer='adam',\n",
    "    loss='categorical_crossentropy',\n",
    "    metrics=['accuracy']\n",
    ")\n",
    "print('Model Compiled')\n",
    "early_stop = EarlyStopping(patience=2, verbose=1)\n",
    "solver.summary()"
   ]
  },
  {
   "cell_type": "code",
   "execution_count": 8,
   "metadata": {
    "ExecuteTime": {
     "end_time": "2019-12-02T13:10:04.708199Z",
     "start_time": "2019-12-02T13:07:11.280819Z"
    }
   },
   "outputs": [
    {
     "name": "stderr",
     "output_type": "stream",
     "text": [
      "2019-12-02 18:37:12,742 : INFO : __main__ : idx: 0 Data Loaded\n"
     ]
    },
    {
     "name": "stdout",
     "output_type": "stream",
     "text": [
      "WARNING:tensorflow:From D:\\Users\\Ritvik\\Anaconda3\\envs\\datascience\\lib\\site-packages\\tensorflow\\python\\ops\\math_ops.py:3066: to_int32 (from tensorflow.python.ops.math_ops) is deprecated and will be removed in a future version.\n",
      "Instructions for updating:\n",
      "Use tf.cast instead.\n"
     ]
    },
    {
     "ename": "KeyboardInterrupt",
     "evalue": "",
     "output_type": "error",
     "traceback": [
      "\u001b[1;31m---------------------------------------------------------------------------\u001b[0m",
      "\u001b[1;31mKeyboardInterrupt\u001b[0m                         Traceback (most recent call last)",
      "\u001b[1;32m<ipython-input-8-936063e6ebec>\u001b[0m in \u001b[0;36m<module>\u001b[1;34m\u001b[0m\n\u001b[0;32m     32\u001b[0m         )\n\u001b[0;32m     33\u001b[0m \u001b[1;33m\u001b[0m\u001b[0m\n\u001b[1;32m---> 34\u001b[1;33m         \u001b[0msolver\u001b[0m\u001b[1;33m.\u001b[0m\u001b[0msave\u001b[0m\u001b[1;33m(\u001b[0m\u001b[1;34m'Sudoku1M.h5'\u001b[0m\u001b[1;33m)\u001b[0m\u001b[1;33m\u001b[0m\u001b[1;33m\u001b[0m\u001b[0m\n\u001b[0m\u001b[0;32m     35\u001b[0m         \u001b[0mlogger\u001b[0m\u001b[1;33m.\u001b[0m\u001b[0minfo\u001b[0m\u001b[1;33m(\u001b[0m\u001b[1;34mf'idx: {idx} Pass: {iteration} dlt: {nb_delete}'\u001b[0m\u001b[1;33m)\u001b[0m\u001b[1;33m\u001b[0m\u001b[1;33m\u001b[0m\u001b[0m\n",
      "\u001b[1;32mD:\\Users\\Ritvik\\Anaconda3\\envs\\datascience\\lib\\site-packages\\keras\\engine\\network.py\u001b[0m in \u001b[0;36msave\u001b[1;34m(self, filepath, overwrite, include_optimizer)\u001b[0m\n\u001b[0;32m   1088\u001b[0m             \u001b[1;32mraise\u001b[0m \u001b[0mNotImplementedError\u001b[0m\u001b[1;33m\u001b[0m\u001b[1;33m\u001b[0m\u001b[0m\n\u001b[0;32m   1089\u001b[0m         \u001b[1;32mfrom\u001b[0m \u001b[1;33m.\u001b[0m\u001b[1;33m.\u001b[0m\u001b[0mmodels\u001b[0m \u001b[1;32mimport\u001b[0m \u001b[0msave_model\u001b[0m\u001b[1;33m\u001b[0m\u001b[1;33m\u001b[0m\u001b[0m\n\u001b[1;32m-> 1090\u001b[1;33m         \u001b[0msave_model\u001b[0m\u001b[1;33m(\u001b[0m\u001b[0mself\u001b[0m\u001b[1;33m,\u001b[0m \u001b[0mfilepath\u001b[0m\u001b[1;33m,\u001b[0m \u001b[0moverwrite\u001b[0m\u001b[1;33m,\u001b[0m \u001b[0minclude_optimizer\u001b[0m\u001b[1;33m)\u001b[0m\u001b[1;33m\u001b[0m\u001b[1;33m\u001b[0m\u001b[0m\n\u001b[0m\u001b[0;32m   1091\u001b[0m \u001b[1;33m\u001b[0m\u001b[0m\n\u001b[0;32m   1092\u001b[0m     \u001b[1;32mdef\u001b[0m \u001b[0msave_weights\u001b[0m\u001b[1;33m(\u001b[0m\u001b[0mself\u001b[0m\u001b[1;33m,\u001b[0m \u001b[0mfilepath\u001b[0m\u001b[1;33m,\u001b[0m \u001b[0moverwrite\u001b[0m\u001b[1;33m=\u001b[0m\u001b[1;32mTrue\u001b[0m\u001b[1;33m)\u001b[0m\u001b[1;33m:\u001b[0m\u001b[1;33m\u001b[0m\u001b[1;33m\u001b[0m\u001b[0m\n",
      "\u001b[1;32mD:\\Users\\Ritvik\\Anaconda3\\envs\\datascience\\lib\\site-packages\\keras\\engine\\saving.py\u001b[0m in \u001b[0;36msave_model\u001b[1;34m(model, filepath, overwrite, include_optimizer)\u001b[0m\n\u001b[0;32m    380\u001b[0m \u001b[1;33m\u001b[0m\u001b[0m\n\u001b[0;32m    381\u001b[0m     \u001b[1;32mtry\u001b[0m\u001b[1;33m:\u001b[0m\u001b[1;33m\u001b[0m\u001b[1;33m\u001b[0m\u001b[0m\n\u001b[1;32m--> 382\u001b[1;33m         \u001b[0m_serialize_model\u001b[0m\u001b[1;33m(\u001b[0m\u001b[0mmodel\u001b[0m\u001b[1;33m,\u001b[0m \u001b[0mf\u001b[0m\u001b[1;33m,\u001b[0m \u001b[0minclude_optimizer\u001b[0m\u001b[1;33m)\u001b[0m\u001b[1;33m\u001b[0m\u001b[1;33m\u001b[0m\u001b[0m\n\u001b[0m\u001b[0;32m    383\u001b[0m     \u001b[1;32mfinally\u001b[0m\u001b[1;33m:\u001b[0m\u001b[1;33m\u001b[0m\u001b[1;33m\u001b[0m\u001b[0m\n\u001b[0;32m    384\u001b[0m         \u001b[1;32mif\u001b[0m \u001b[0mopened_new_file\u001b[0m\u001b[1;33m:\u001b[0m\u001b[1;33m\u001b[0m\u001b[1;33m\u001b[0m\u001b[0m\n",
      "\u001b[1;32mD:\\Users\\Ritvik\\Anaconda3\\envs\\datascience\\lib\\site-packages\\keras\\engine\\saving.py\u001b[0m in \u001b[0;36m_serialize_model\u001b[1;34m(model, f, include_optimizer)\u001b[0m\n\u001b[0;32m     95\u001b[0m         \u001b[0mlayer_group\u001b[0m \u001b[1;33m=\u001b[0m \u001b[0mmodel_weights_group\u001b[0m\u001b[1;33m[\u001b[0m\u001b[0mlayer\u001b[0m\u001b[1;33m.\u001b[0m\u001b[0mname\u001b[0m\u001b[1;33m]\u001b[0m\u001b[1;33m\u001b[0m\u001b[1;33m\u001b[0m\u001b[0m\n\u001b[0;32m     96\u001b[0m         \u001b[0msymbolic_weights\u001b[0m \u001b[1;33m=\u001b[0m \u001b[0mlayer\u001b[0m\u001b[1;33m.\u001b[0m\u001b[0mweights\u001b[0m\u001b[1;33m\u001b[0m\u001b[1;33m\u001b[0m\u001b[0m\n\u001b[1;32m---> 97\u001b[1;33m         \u001b[0mweight_values\u001b[0m \u001b[1;33m=\u001b[0m \u001b[0mK\u001b[0m\u001b[1;33m.\u001b[0m\u001b[0mbatch_get_value\u001b[0m\u001b[1;33m(\u001b[0m\u001b[0msymbolic_weights\u001b[0m\u001b[1;33m)\u001b[0m\u001b[1;33m\u001b[0m\u001b[1;33m\u001b[0m\u001b[0m\n\u001b[0m\u001b[0;32m     98\u001b[0m         \u001b[0mweight_names\u001b[0m \u001b[1;33m=\u001b[0m \u001b[1;33m[\u001b[0m\u001b[1;33m]\u001b[0m\u001b[1;33m\u001b[0m\u001b[1;33m\u001b[0m\u001b[0m\n\u001b[0;32m     99\u001b[0m         \u001b[1;32mfor\u001b[0m \u001b[0mi\u001b[0m\u001b[1;33m,\u001b[0m \u001b[1;33m(\u001b[0m\u001b[0mw\u001b[0m\u001b[1;33m,\u001b[0m \u001b[0mval\u001b[0m\u001b[1;33m)\u001b[0m \u001b[1;32min\u001b[0m \u001b[0menumerate\u001b[0m\u001b[1;33m(\u001b[0m\u001b[0mzip\u001b[0m\u001b[1;33m(\u001b[0m\u001b[0msymbolic_weights\u001b[0m\u001b[1;33m,\u001b[0m \u001b[0mweight_values\u001b[0m\u001b[1;33m)\u001b[0m\u001b[1;33m)\u001b[0m\u001b[1;33m:\u001b[0m\u001b[1;33m\u001b[0m\u001b[1;33m\u001b[0m\u001b[0m\n",
      "\u001b[1;32mD:\\Users\\Ritvik\\Anaconda3\\envs\\datascience\\lib\\site-packages\\keras\\backend\\tensorflow_backend.py\u001b[0m in \u001b[0;36mbatch_get_value\u001b[1;34m(ops)\u001b[0m\n\u001b[0;32m   2418\u001b[0m     \"\"\"\n\u001b[0;32m   2419\u001b[0m     \u001b[1;32mif\u001b[0m \u001b[0mops\u001b[0m\u001b[1;33m:\u001b[0m\u001b[1;33m\u001b[0m\u001b[1;33m\u001b[0m\u001b[0m\n\u001b[1;32m-> 2420\u001b[1;33m         \u001b[1;32mreturn\u001b[0m \u001b[0mget_session\u001b[0m\u001b[1;33m(\u001b[0m\u001b[1;33m)\u001b[0m\u001b[1;33m.\u001b[0m\u001b[0mrun\u001b[0m\u001b[1;33m(\u001b[0m\u001b[0mops\u001b[0m\u001b[1;33m)\u001b[0m\u001b[1;33m\u001b[0m\u001b[1;33m\u001b[0m\u001b[0m\n\u001b[0m\u001b[0;32m   2421\u001b[0m     \u001b[1;32melse\u001b[0m\u001b[1;33m:\u001b[0m\u001b[1;33m\u001b[0m\u001b[1;33m\u001b[0m\u001b[0m\n\u001b[0;32m   2422\u001b[0m         \u001b[1;32mreturn\u001b[0m \u001b[1;33m[\u001b[0m\u001b[1;33m]\u001b[0m\u001b[1;33m\u001b[0m\u001b[1;33m\u001b[0m\u001b[0m\n",
      "\u001b[1;32mD:\\Users\\Ritvik\\Anaconda3\\envs\\datascience\\lib\\site-packages\\tensorflow\\python\\client\\session.py\u001b[0m in \u001b[0;36mrun\u001b[1;34m(self, fetches, feed_dict, options, run_metadata)\u001b[0m\n\u001b[0;32m    927\u001b[0m     \u001b[1;32mtry\u001b[0m\u001b[1;33m:\u001b[0m\u001b[1;33m\u001b[0m\u001b[1;33m\u001b[0m\u001b[0m\n\u001b[0;32m    928\u001b[0m       result = self._run(None, fetches, feed_dict, options_ptr,\n\u001b[1;32m--> 929\u001b[1;33m                          run_metadata_ptr)\n\u001b[0m\u001b[0;32m    930\u001b[0m       \u001b[1;32mif\u001b[0m \u001b[0mrun_metadata\u001b[0m\u001b[1;33m:\u001b[0m\u001b[1;33m\u001b[0m\u001b[1;33m\u001b[0m\u001b[0m\n\u001b[0;32m    931\u001b[0m         \u001b[0mproto_data\u001b[0m \u001b[1;33m=\u001b[0m \u001b[0mtf_session\u001b[0m\u001b[1;33m.\u001b[0m\u001b[0mTF_GetBuffer\u001b[0m\u001b[1;33m(\u001b[0m\u001b[0mrun_metadata_ptr\u001b[0m\u001b[1;33m)\u001b[0m\u001b[1;33m\u001b[0m\u001b[1;33m\u001b[0m\u001b[0m\n",
      "\u001b[1;32mD:\\Users\\Ritvik\\Anaconda3\\envs\\datascience\\lib\\site-packages\\tensorflow\\python\\client\\session.py\u001b[0m in \u001b[0;36m_run\u001b[1;34m(self, handle, fetches, feed_dict, options, run_metadata)\u001b[0m\n\u001b[0;32m   1150\u001b[0m     \u001b[1;32mif\u001b[0m \u001b[0mfinal_fetches\u001b[0m \u001b[1;32mor\u001b[0m \u001b[0mfinal_targets\u001b[0m \u001b[1;32mor\u001b[0m \u001b[1;33m(\u001b[0m\u001b[0mhandle\u001b[0m \u001b[1;32mand\u001b[0m \u001b[0mfeed_dict_tensor\u001b[0m\u001b[1;33m)\u001b[0m\u001b[1;33m:\u001b[0m\u001b[1;33m\u001b[0m\u001b[1;33m\u001b[0m\u001b[0m\n\u001b[0;32m   1151\u001b[0m       results = self._do_run(handle, final_targets, final_fetches,\n\u001b[1;32m-> 1152\u001b[1;33m                              feed_dict_tensor, options, run_metadata)\n\u001b[0m\u001b[0;32m   1153\u001b[0m     \u001b[1;32melse\u001b[0m\u001b[1;33m:\u001b[0m\u001b[1;33m\u001b[0m\u001b[1;33m\u001b[0m\u001b[0m\n\u001b[0;32m   1154\u001b[0m       \u001b[0mresults\u001b[0m \u001b[1;33m=\u001b[0m \u001b[1;33m[\u001b[0m\u001b[1;33m]\u001b[0m\u001b[1;33m\u001b[0m\u001b[1;33m\u001b[0m\u001b[0m\n",
      "\u001b[1;32mD:\\Users\\Ritvik\\Anaconda3\\envs\\datascience\\lib\\site-packages\\tensorflow\\python\\client\\session.py\u001b[0m in \u001b[0;36m_do_run\u001b[1;34m(self, handle, target_list, fetch_list, feed_dict, options, run_metadata)\u001b[0m\n\u001b[0;32m   1326\u001b[0m     \u001b[1;32mif\u001b[0m \u001b[0mhandle\u001b[0m \u001b[1;32mis\u001b[0m \u001b[1;32mNone\u001b[0m\u001b[1;33m:\u001b[0m\u001b[1;33m\u001b[0m\u001b[1;33m\u001b[0m\u001b[0m\n\u001b[0;32m   1327\u001b[0m       return self._do_call(_run_fn, feeds, fetches, targets, options,\n\u001b[1;32m-> 1328\u001b[1;33m                            run_metadata)\n\u001b[0m\u001b[0;32m   1329\u001b[0m     \u001b[1;32melse\u001b[0m\u001b[1;33m:\u001b[0m\u001b[1;33m\u001b[0m\u001b[1;33m\u001b[0m\u001b[0m\n\u001b[0;32m   1330\u001b[0m       \u001b[1;32mreturn\u001b[0m \u001b[0mself\u001b[0m\u001b[1;33m.\u001b[0m\u001b[0m_do_call\u001b[0m\u001b[1;33m(\u001b[0m\u001b[0m_prun_fn\u001b[0m\u001b[1;33m,\u001b[0m \u001b[0mhandle\u001b[0m\u001b[1;33m,\u001b[0m \u001b[0mfeeds\u001b[0m\u001b[1;33m,\u001b[0m \u001b[0mfetches\u001b[0m\u001b[1;33m)\u001b[0m\u001b[1;33m\u001b[0m\u001b[1;33m\u001b[0m\u001b[0m\n",
      "\u001b[1;32mD:\\Users\\Ritvik\\Anaconda3\\envs\\datascience\\lib\\site-packages\\tensorflow\\python\\client\\session.py\u001b[0m in \u001b[0;36m_do_call\u001b[1;34m(self, fn, *args)\u001b[0m\n\u001b[0;32m   1332\u001b[0m   \u001b[1;32mdef\u001b[0m \u001b[0m_do_call\u001b[0m\u001b[1;33m(\u001b[0m\u001b[0mself\u001b[0m\u001b[1;33m,\u001b[0m \u001b[0mfn\u001b[0m\u001b[1;33m,\u001b[0m \u001b[1;33m*\u001b[0m\u001b[0margs\u001b[0m\u001b[1;33m)\u001b[0m\u001b[1;33m:\u001b[0m\u001b[1;33m\u001b[0m\u001b[1;33m\u001b[0m\u001b[0m\n\u001b[0;32m   1333\u001b[0m     \u001b[1;32mtry\u001b[0m\u001b[1;33m:\u001b[0m\u001b[1;33m\u001b[0m\u001b[1;33m\u001b[0m\u001b[0m\n\u001b[1;32m-> 1334\u001b[1;33m       \u001b[1;32mreturn\u001b[0m \u001b[0mfn\u001b[0m\u001b[1;33m(\u001b[0m\u001b[1;33m*\u001b[0m\u001b[0margs\u001b[0m\u001b[1;33m)\u001b[0m\u001b[1;33m\u001b[0m\u001b[1;33m\u001b[0m\u001b[0m\n\u001b[0m\u001b[0;32m   1335\u001b[0m     \u001b[1;32mexcept\u001b[0m \u001b[0merrors\u001b[0m\u001b[1;33m.\u001b[0m\u001b[0mOpError\u001b[0m \u001b[1;32mas\u001b[0m \u001b[0me\u001b[0m\u001b[1;33m:\u001b[0m\u001b[1;33m\u001b[0m\u001b[1;33m\u001b[0m\u001b[0m\n\u001b[0;32m   1336\u001b[0m       \u001b[0mmessage\u001b[0m \u001b[1;33m=\u001b[0m \u001b[0mcompat\u001b[0m\u001b[1;33m.\u001b[0m\u001b[0mas_text\u001b[0m\u001b[1;33m(\u001b[0m\u001b[0me\u001b[0m\u001b[1;33m.\u001b[0m\u001b[0mmessage\u001b[0m\u001b[1;33m)\u001b[0m\u001b[1;33m\u001b[0m\u001b[1;33m\u001b[0m\u001b[0m\n",
      "\u001b[1;32mD:\\Users\\Ritvik\\Anaconda3\\envs\\datascience\\lib\\site-packages\\tensorflow\\python\\client\\session.py\u001b[0m in \u001b[0;36m_run_fn\u001b[1;34m(feed_dict, fetch_list, target_list, options, run_metadata)\u001b[0m\n\u001b[0;32m   1317\u001b[0m       \u001b[0mself\u001b[0m\u001b[1;33m.\u001b[0m\u001b[0m_extend_graph\u001b[0m\u001b[1;33m(\u001b[0m\u001b[1;33m)\u001b[0m\u001b[1;33m\u001b[0m\u001b[1;33m\u001b[0m\u001b[0m\n\u001b[0;32m   1318\u001b[0m       return self._call_tf_sessionrun(\n\u001b[1;32m-> 1319\u001b[1;33m           options, feed_dict, fetch_list, target_list, run_metadata)\n\u001b[0m\u001b[0;32m   1320\u001b[0m \u001b[1;33m\u001b[0m\u001b[0m\n\u001b[0;32m   1321\u001b[0m     \u001b[1;32mdef\u001b[0m \u001b[0m_prun_fn\u001b[0m\u001b[1;33m(\u001b[0m\u001b[0mhandle\u001b[0m\u001b[1;33m,\u001b[0m \u001b[0mfeed_dict\u001b[0m\u001b[1;33m,\u001b[0m \u001b[0mfetch_list\u001b[0m\u001b[1;33m)\u001b[0m\u001b[1;33m:\u001b[0m\u001b[1;33m\u001b[0m\u001b[1;33m\u001b[0m\u001b[0m\n",
      "\u001b[1;32mD:\\Users\\Ritvik\\Anaconda3\\envs\\datascience\\lib\\site-packages\\tensorflow\\python\\client\\session.py\u001b[0m in \u001b[0;36m_call_tf_sessionrun\u001b[1;34m(self, options, feed_dict, fetch_list, target_list, run_metadata)\u001b[0m\n\u001b[0;32m   1405\u001b[0m     return tf_session.TF_SessionRun_wrapper(\n\u001b[0;32m   1406\u001b[0m         \u001b[0mself\u001b[0m\u001b[1;33m.\u001b[0m\u001b[0m_session\u001b[0m\u001b[1;33m,\u001b[0m \u001b[0moptions\u001b[0m\u001b[1;33m,\u001b[0m \u001b[0mfeed_dict\u001b[0m\u001b[1;33m,\u001b[0m \u001b[0mfetch_list\u001b[0m\u001b[1;33m,\u001b[0m \u001b[0mtarget_list\u001b[0m\u001b[1;33m,\u001b[0m\u001b[1;33m\u001b[0m\u001b[1;33m\u001b[0m\u001b[0m\n\u001b[1;32m-> 1407\u001b[1;33m         run_metadata)\n\u001b[0m\u001b[0;32m   1408\u001b[0m \u001b[1;33m\u001b[0m\u001b[0m\n\u001b[0;32m   1409\u001b[0m   \u001b[1;32mdef\u001b[0m \u001b[0m_call_tf_sessionprun\u001b[0m\u001b[1;33m(\u001b[0m\u001b[0mself\u001b[0m\u001b[1;33m,\u001b[0m \u001b[0mhandle\u001b[0m\u001b[1;33m,\u001b[0m \u001b[0mfeed_dict\u001b[0m\u001b[1;33m,\u001b[0m \u001b[0mfetch_list\u001b[0m\u001b[1;33m)\u001b[0m\u001b[1;33m:\u001b[0m\u001b[1;33m\u001b[0m\u001b[1;33m\u001b[0m\u001b[0m\n",
      "\u001b[1;31mKeyboardInterrupt\u001b[0m: "
     ]
    }
   ],
   "source": [
    "for idx in range(100):\n",
    "    (_, ytrain), (Xtest, ytest) = load_data(idx, 10000)  # We won't use _. We will work directly with ytrain\n",
    "\n",
    "    # one-hot-encoding --> shapes become :\n",
    "    # (?, 9, 9, 10) for Xs\n",
    "    # (?, 9, 9, 9) for ys\n",
    "    Xtrain = to_categorical(ytrain).astype('int32')  # from ytrain cause we will creates quizzes from solusions\n",
    "    Xtest = to_categorical(Xtest).astype('int32')\n",
    "\n",
    "    ytrain = to_categorical(ytrain-1).astype('int32') # (y - 1) because we \n",
    "    ytest = to_categorical(ytest-1).astype('int32')   # don't want to predict zeros\n",
    "\n",
    "    logger.info(f'idx: {idx} Data Loaded')\n",
    "\n",
    "    iteration = 0\n",
    "    for nb_epochs, nb_delete in zip(\n",
    "            [1, 2, 5, 5, 5, 7, 10, 15, 15, 15, 15, 15, 15, 15, 15, 15, 20, 20, 20, 20],  # epochs for each round\n",
    "            [0, 1, 2, 3, 4, 6, 8, 10, 12, 15, 20, 25, 30, 35, 40, 45, 50, 55, 60, 65]  # digit to pull off\n",
    "    ):\n",
    "        iteration += 1\n",
    "\n",
    "        solver.fit(\n",
    "            delete_digits(Xtrain, nb_delete),  # delete digits from training sample\n",
    "            [ytrain[:, i, j, :] for i in range(9) for j in range(9)],\n",
    "            validation_data=(\n",
    "                delete_digits(Xtrain, nb_delete), # delete same amount of digit from validation sample\n",
    "                [ytrain[:, i, j, :] for i in range(9) for j in range(9)]),\n",
    "            batch_size=128,\n",
    "            epochs=nb_epochs,\n",
    "            verbose=1,\n",
    "            callbacks=[early_stop]\n",
    "        )\n",
    "        \n",
    "        solver.save('Sudoku1M.h5')\n",
    "        logger.info(f'idx: {idx} Pass: {iteration} dlt: {nb_delete}')"
   ]
  },
  {
   "cell_type": "code",
   "execution_count": null,
   "metadata": {
    "ExecuteTime": {
     "end_time": "2019-12-02T13:10:04.721163Z",
     "start_time": "2019-12-02T13:06:56.549Z"
    }
   },
   "outputs": [],
   "source": [
    "early_stop = EarlyStopping(patience=2, verbose=1)\n",
    "\n",
    "i = 1\n",
    "for nb_epochs, nb_delete in zip(\n",
    "        [2, 5, 5, 5, 7, 10, 15, 15, 15, 15, 15, 15, 15, 15, 15, 20, 20, 20, 20],  # epochs for each round\n",
    "        [1, 2, 3, 4, 6, 8, 10, 12, 15, 20, 25, 30, 35, 40, 45, 50, 55, 60, 65]  # digit to pull off\n",
    "):\n",
    "    print(f'Pass {i}: {nb_delete}')\n",
    "    i += 1\n",
    "    \n",
    "    solver.fit(\n",
    "        delete_digits(Xtrain, nb_delete),  # delete digits from training sample\n",
    "        [ytrain[:, i, j, :] for i in range(9) for j in range(9)],\n",
    "        validation_data=(\n",
    "            delete_digits(Xtrain, nb_delete), # delete same amount of digit from validation sample\n",
    "            [ytrain[:, i, j, :] for i in range(9) for j in range(9)]),\n",
    "        batch_size=128,\n",
    "        epochs=nb_epochs,\n",
    "        verbose=0,\n",
    "        callbacks=[early_stop]\n",
    "    )"
   ]
  },
  {
   "cell_type": "code",
   "execution_count": null,
   "metadata": {
    "ExecuteTime": {
     "end_time": "2019-12-02T13:10:04.723181Z",
     "start_time": "2019-12-02T13:06:56.552Z"
    }
   },
   "outputs": [],
   "source": [
    "quizzes = Xtest.argmax(3)  # quizzes in the (?, 9, 9) shape. From the test set\n",
    "true_grids = ytest.argmax(3) + 1  # true solutions dont forget to add 1 \n",
    "smart_guesses = batch_smart_solve(quizzes, solver)  # make smart guesses !\n",
    "\n",
    "deltas = diff(true_grids, smart_guesses)  # get number of errors on each quizz\n",
    "accuracy = (deltas == 0).mean()  # portion of correct solved quizzes"
   ]
  },
  {
   "cell_type": "code",
   "execution_count": null,
   "metadata": {
    "ExecuteTime": {
     "end_time": "2019-12-02T13:10:04.725153Z",
     "start_time": "2019-12-02T13:06:56.555Z"
    }
   },
   "outputs": [],
   "source": [
    "print(\n",
    "\"\"\"\n",
    "Grid solved:\\t {}\n",
    "Correct ones:\\t {}\n",
    "Accuracy:\\t {}\n",
    "\"\"\".format(\n",
    "deltas.shape[0], (deltas==0).sum(), accuracy\n",
    ")\n",
    ")"
   ]
  },
  {
   "cell_type": "code",
   "execution_count": null,
   "metadata": {
    "ExecuteTime": {
     "end_time": "2019-12-02T13:10:04.727147Z",
     "start_time": "2019-12-02T13:06:56.558Z"
    }
   },
   "outputs": [],
   "source": [
    "solver.save('Sudoku1M.h5')"
   ]
  },
  {
   "cell_type": "code",
   "execution_count": null,
   "metadata": {},
   "outputs": [],
   "source": []
  }
 ],
 "metadata": {
  "kernelspec": {
   "display_name": "Python 3",
   "language": "python",
   "name": "python3"
  },
  "language_info": {
   "codemirror_mode": {
    "name": "ipython",
    "version": 3
   },
   "file_extension": ".py",
   "mimetype": "text/x-python",
   "name": "python",
   "nbconvert_exporter": "python",
   "pygments_lexer": "ipython3",
   "version": "3.7.3"
  },
  "toc": {
   "base_numbering": 1,
   "nav_menu": {},
   "number_sections": true,
   "sideBar": true,
   "skip_h1_title": false,
   "title_cell": "Table of Contents",
   "title_sidebar": "Contents",
   "toc_cell": false,
   "toc_position": {},
   "toc_section_display": true,
   "toc_window_display": false
  },
  "varInspector": {
   "cols": {
    "lenName": 16,
    "lenType": 16,
    "lenVar": 40
   },
   "kernels_config": {
    "python": {
     "delete_cmd_postfix": "",
     "delete_cmd_prefix": "del ",
     "library": "var_list.py",
     "varRefreshCmd": "print(var_dic_list())"
    },
    "r": {
     "delete_cmd_postfix": ") ",
     "delete_cmd_prefix": "rm(",
     "library": "var_list.r",
     "varRefreshCmd": "cat(var_dic_list()) "
    }
   },
   "types_to_exclude": [
    "module",
    "function",
    "builtin_function_or_method",
    "instance",
    "_Feature"
   ],
   "window_display": false
  }
 },
 "nbformat": 4,
 "nbformat_minor": 2
}
