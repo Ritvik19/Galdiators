{
 "cells": [
  {
   "cell_type": "code",
   "execution_count": 1,
   "metadata": {
    "ExecuteTime": {
     "end_time": "2019-12-10T09:28:03.919369Z",
     "start_time": "2019-12-10T09:27:59.795736Z"
    }
   },
   "outputs": [
    {
     "name": "stderr",
     "output_type": "stream",
     "text": [
      "Using TensorFlow backend.\n"
     ]
    }
   ],
   "source": [
    "import numpy as np\n",
    "import pandas as pd\n",
    "\n",
    "from keras.models import load_model\n",
    "from keras import Model, Sequential\n",
    "from keras.callbacks import EarlyStopping\n",
    "from keras.layers import Dense, Dropout, Flatten, Input\n",
    "from keras.utils import to_categorical\n",
    "\n",
    "from tqdm.auto import trange"
   ]
  },
  {
   "cell_type": "code",
   "execution_count": 2,
   "metadata": {
    "ExecuteTime": {
     "end_time": "2019-12-10T09:28:03.937291Z",
     "start_time": "2019-12-10T09:28:03.922333Z"
    }
   },
   "outputs": [],
   "source": [
    "def load_data(batch_num ,batch_size):\n",
    "    \"\"\"\n",
    "    Function to load data in the keras way.\n",
    "    \n",
    "    Parameters\n",
    "    ----------\n",
    "    n (int): Number of  examples\n",
    "    \n",
    "    Returns\n",
    "    -------\n",
    "    Xtrain, ytrain (np.array, np.array),\n",
    "        shapes (0.8*n, 9, 9), (0.8*n, 9, 9): Training samples\n",
    "    Xtest, ytest (np.array, np.array), \n",
    "        shapes (0.2*n, 9, 9), (0.2*n, 9, 9): Testing samples\n",
    "    \"\"\"\n",
    "    sudokus = pd.read_csv('E:/[Data] Sudoku/sudoku.csv', skiprows=batch_num*batch_size, nrows=batch_size).values\n",
    "        \n",
    "    quizzes, solutions = sudokus.T\n",
    "    flatX = np.array([np.reshape([int(d) for d in flatten_grid], (9, 9))\n",
    "                      for flatten_grid in quizzes])\n",
    "    flaty = np.array([np.reshape([int(d) for d in flatten_grid], (9, 9))\n",
    "                      for flatten_grid in solutions])\n",
    "    threshold = int(0.8*batch_size)\n",
    "    return (flatX[:threshold], flaty[:threshold]), (flatX[threshold:], flaty[threshold:])"
   ]
  },
  {
   "cell_type": "code",
   "execution_count": 3,
   "metadata": {
    "ExecuteTime": {
     "end_time": "2019-12-10T09:28:04.077913Z",
     "start_time": "2019-12-10T09:28:03.947266Z"
    }
   },
   "outputs": [],
   "source": [
    "def diff(grids_true, grids_pred):\n",
    "    \"\"\"\n",
    "    This function shows how well predicted quizzes fit to actual solutions.\n",
    "    It will store sum of differences for each pair (solution, guess)\n",
    "    \n",
    "    Parameters\n",
    "    ----------\n",
    "    grids_true (np.array), shape (?, 9, 9): Real solutions to guess in the digit repesentation\n",
    "    grids_pred (np.array), shape (?, 9, 9): Guesses\n",
    "    \n",
    "    Returns\n",
    "    -------\n",
    "    diff (np.array), shape (?,): Number of differences for each pair (solution, guess)\n",
    "    \"\"\"\n",
    "    return (grids_true != grids_pred).sum((1, 2))\n",
    "\n",
    "def batch_smart_solve(grids, solver):\n",
    "    \"\"\"   \n",
    "    This function solves quizzes in the \"smart\" way. \n",
    "    It will fill blanks one after the other. Each time a digit is filled, \n",
    "    the new grid will be fed again to the solver to predict the next digit. \n",
    "    Again and again, until there is no more blank\n",
    "    \n",
    "    Parameters\n",
    "    ----------\n",
    "    grids (np.array), shape (?, 9, 9): Batch of quizzes to solve (smartly ;))\n",
    "    solver (keras.model): The neural net solver\n",
    "    \n",
    "    Returns\n",
    "    -------\n",
    "    grids (np.array), shape (?, 9, 9): Smartly solved quizzes.\n",
    "    \"\"\"\n",
    "    grids = grids.copy()\n",
    "    for _ in range((grids == 0).sum((1, 2)).max()):\n",
    "        preds = np.array(solver.predict(to_categorical(grids)))  # get predictions\n",
    "        probs = preds.max(2).T  # get highest probability for each 81 digit to predict\n",
    "        values = preds.argmax(2).T + 1  # get corresponding values\n",
    "        zeros = (grids == 0).reshape((grids.shape[0], 81))  # get blank positions\n",
    "\n",
    "        for grid, prob, value, zero in zip(grids, probs, values, zeros):\n",
    "            if any(zero):  # don't try to fill already completed grid\n",
    "                where = np.where(zero)[0]  # focus on blanks only\n",
    "                confidence_position = where[prob[zero].argmax()]  # best score FOR A ZERO VALUE (confident blank)\n",
    "                confidence_value = value[confidence_position]  # get corresponding value\n",
    "                grid.flat[confidence_position] = confidence_value  # fill digit inplace\n",
    "    return grids"
   ]
  },
  {
   "cell_type": "code",
   "execution_count": 4,
   "metadata": {
    "ExecuteTime": {
     "end_time": "2019-12-10T09:28:43.665249Z",
     "start_time": "2019-12-10T09:28:04.080907Z"
    }
   },
   "outputs": [
    {
     "name": "stdout",
     "output_type": "stream",
     "text": [
      "WARNING:tensorflow:From D:\\Users\\Ritvik\\Anaconda3\\envs\\datascience\\lib\\site-packages\\tensorflow\\python\\framework\\op_def_library.py:263: colocate_with (from tensorflow.python.framework.ops) is deprecated and will be removed in a future version.\n",
      "Instructions for updating:\n",
      "Colocations handled automatically by placer.\n",
      "WARNING:tensorflow:From D:\\Users\\Ritvik\\Anaconda3\\envs\\datascience\\lib\\site-packages\\keras\\backend\\tensorflow_backend.py:3445: calling dropout (from tensorflow.python.ops.nn_ops) with keep_prob is deprecated and will be removed in a future version.\n",
      "Instructions for updating:\n",
      "Please use `rate` instead of `keep_prob`. Rate should be set to `rate = 1 - keep_prob`.\n",
      "WARNING:tensorflow:From D:\\Users\\Ritvik\\Anaconda3\\envs\\datascience\\lib\\site-packages\\tensorflow\\python\\ops\\math_ops.py:3066: to_int32 (from tensorflow.python.ops.math_ops) is deprecated and will be removed in a future version.\n",
      "Instructions for updating:\n",
      "Use tf.cast instead.\n"
     ]
    }
   ],
   "source": [
    "solver = load_model('Sudoku.h5')"
   ]
  },
  {
   "cell_type": "code",
   "execution_count": 5,
   "metadata": {
    "ExecuteTime": {
     "end_time": "2019-12-10T10:42:28.875925Z",
     "start_time": "2019-12-10T09:28:43.667245Z"
    }
   },
   "outputs": [
    {
     "data": {
      "application/vnd.jupyter.widget-view+json": {
       "model_id": "9a76c79bd21845a281a7f08ee64fbdb2",
       "version_major": 2,
       "version_minor": 0
      },
      "text/plain": [
       "HBox(children=(IntProgress(value=0), HTML(value='')))"
      ]
     },
     "metadata": {},
     "output_type": "display_data"
    },
    {
     "name": "stdout",
     "output_type": "stream",
     "text": [
      "\n",
      "Grid solved:\t 200000\n",
      "Correct ones:\t 199972\n",
      "Accuracy:\t 0.99986\n"
     ]
    }
   ],
   "source": [
    "grids_solved = 0\n",
    "correct_ones = 0\n",
    "for idx in trange(100):\n",
    "    (_, ytrain), (Xtest, ytest) = load_data(idx, 10000)  # We won't use _. We will work directly with ytrain\n",
    "\n",
    "    # one-hot-encoding --> shapes become :\n",
    "    # (?, 9, 9, 10) for Xs\n",
    "    # (?, 9, 9, 9) for ys\n",
    "    Xtrain = to_categorical(ytrain).astype('int32')  # from ytrain cause we will creates quizzes from solusions\n",
    "    Xtest = to_categorical(Xtest).astype('int32')\n",
    "\n",
    "    ytrain = to_categorical(ytrain-1).astype('int32') # (y - 1) because we \n",
    "    ytest = to_categorical(ytest-1).astype('int32')   # don't want to predict zeros\n",
    "\n",
    "    quizzes = Xtest.argmax(3)  # quizzes in the (?, 9, 9) shape. From the test set\n",
    "    true_grids = ytest.argmax(3) + 1  # true solutions dont forget to add 1 \n",
    "    smart_guesses = batch_smart_solve(quizzes, solver)  # make smart guesses !\n",
    "\n",
    "    deltas = diff(true_grids, smart_guesses)  # get number of errors on each quizz\n",
    "\n",
    "    grids_solved += deltas.shape[0]\n",
    "    correct_ones += (deltas==0).sum()\n",
    "    \n",
    "accuracy = correct_ones/grids_solved\n",
    "print(f\"Grid solved:\\t {grids_solved}\\nCorrect ones:\\t {correct_ones}\\nAccuracy:\\t {accuracy}\")    "
   ]
  }
 ],
 "metadata": {
  "kernelspec": {
   "display_name": "Python 3",
   "language": "python",
   "name": "python3"
  },
  "language_info": {
   "codemirror_mode": {
    "name": "ipython",
    "version": 3
   },
   "file_extension": ".py",
   "mimetype": "text/x-python",
   "name": "python",
   "nbconvert_exporter": "python",
   "pygments_lexer": "ipython3",
   "version": "3.7.3"
  },
  "toc": {
   "base_numbering": 1,
   "nav_menu": {},
   "number_sections": true,
   "sideBar": true,
   "skip_h1_title": false,
   "title_cell": "Table of Contents",
   "title_sidebar": "Contents",
   "toc_cell": false,
   "toc_position": {},
   "toc_section_display": true,
   "toc_window_display": false
  },
  "varInspector": {
   "cols": {
    "lenName": 16,
    "lenType": 16,
    "lenVar": 40
   },
   "kernels_config": {
    "python": {
     "delete_cmd_postfix": "",
     "delete_cmd_prefix": "del ",
     "library": "var_list.py",
     "varRefreshCmd": "print(var_dic_list())"
    },
    "r": {
     "delete_cmd_postfix": ") ",
     "delete_cmd_prefix": "rm(",
     "library": "var_list.r",
     "varRefreshCmd": "cat(var_dic_list()) "
    }
   },
   "types_to_exclude": [
    "module",
    "function",
    "builtin_function_or_method",
    "instance",
    "_Feature"
   ],
   "window_display": false
  }
 },
 "nbformat": 4,
 "nbformat_minor": 2
}
