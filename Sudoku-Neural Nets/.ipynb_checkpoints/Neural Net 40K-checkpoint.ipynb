{
 "cells": [
  {
   "cell_type": "code",
   "execution_count": 1,
   "metadata": {
    "ExecuteTime": {
     "end_time": "2019-10-11T14:17:24.641749Z",
     "start_time": "2019-10-11T14:17:20.417287Z"
    }
   },
   "outputs": [
    {
     "name": "stderr",
     "output_type": "stream",
     "text": [
      "Using TensorFlow backend.\n"
     ]
    }
   ],
   "source": [
    "import numpy as np\n",
    "import pandas as pd\n",
    "\n",
    "from keras import Model, Sequential\n",
    "from keras.callbacks import EarlyStopping\n",
    "from keras.layers import Dense, Dropout, Flatten, Input\n",
    "from keras.utils import to_categorical"
   ]
  },
  {
   "cell_type": "code",
   "execution_count": 2,
   "metadata": {
    "ExecuteTime": {
     "end_time": "2019-10-11T14:17:24.683636Z",
     "start_time": "2019-10-11T14:17:24.644743Z"
    }
   },
   "outputs": [],
   "source": [
    "from win10toast import ToastNotifier"
   ]
  },
  {
   "cell_type": "code",
   "execution_count": 3,
   "metadata": {
    "ExecuteTime": {
     "end_time": "2019-10-11T14:17:24.778526Z",
     "start_time": "2019-10-11T14:17:24.686631Z"
    }
   },
   "outputs": [],
   "source": [
    "toaster = ToastNotifier()\n",
    "\n",
    "def notification(title, message, duration=5, icon=None):\n",
    "    if icon:\n",
    "        toaster.show_toast(title, message, duration=duration, threaded=True, icon_path=icon)\n",
    "    else:\n",
    "        toaster.show_toast(title, message, duration=duration, threaded=True)"
   ]
  },
  {
   "cell_type": "code",
   "execution_count": 4,
   "metadata": {
    "ExecuteTime": {
     "end_time": "2019-10-11T14:17:24.899808Z",
     "start_time": "2019-10-11T14:17:24.781520Z"
    }
   },
   "outputs": [],
   "source": [
    "def load_data(n=1000000):\n",
    "    \"\"\"\n",
    "    Function to load data in the keras way.\n",
    "    \n",
    "    Parameters\n",
    "    ----------\n",
    "    n (int): Number of  examples\n",
    "    \n",
    "    Returns\n",
    "    -------\n",
    "    Xtrain, ytrain (np.array, np.array),\n",
    "        shapes (0.8*n, 9, 9), (0.8*n, 9, 9): Training samples\n",
    "    Xtest, ytest (np.array, np.array), \n",
    "        shapes (0.2*n, 9, 9), (0.2*n, 9, 9): Testing samples\n",
    "    \"\"\"\n",
    "    sudokus = pd.read_csv('../[Data] Sudoku-Solver/sudoku.csv').sample(n).reset_index(drop=True).values\n",
    "        \n",
    "    quizzes, solutions = sudokus.T\n",
    "    flatX = np.array([np.reshape([int(d) for d in flatten_grid], (9, 9))\n",
    "                      for flatten_grid in quizzes])\n",
    "    flaty = np.array([np.reshape([int(d) for d in flatten_grid], (9, 9))\n",
    "                      for flatten_grid in solutions])\n",
    "    threshold = int(0.8*n)\n",
    "    return (flatX[:threshold], flaty[:threshold]), (flatX[threshold:], flaty[threshold:])"
   ]
  },
  {
   "cell_type": "code",
   "execution_count": 5,
   "metadata": {
    "ExecuteTime": {
     "end_time": "2019-10-11T14:17:25.065723Z",
     "start_time": "2019-10-11T14:17:24.901824Z"
    }
   },
   "outputs": [],
   "source": [
    "def diff(grids_true, grids_pred):\n",
    "    \"\"\"\n",
    "    This function shows how well predicted quizzes fit to actual solutions.\n",
    "    It will store sum of differences for each pair (solution, guess)\n",
    "    \n",
    "    Parameters\n",
    "    ----------\n",
    "    grids_true (np.array), shape (?, 9, 9): Real solutions to guess in the digit repesentation\n",
    "    grids_pred (np.array), shape (?, 9, 9): Guesses\n",
    "    \n",
    "    Returns\n",
    "    -------\n",
    "    diff (np.array), shape (?,): Number of differences for each pair (solution, guess)\n",
    "    \"\"\"\n",
    "    return (grids_true != grids_pred).sum((1, 2))"
   ]
  },
  {
   "cell_type": "code",
   "execution_count": 6,
   "metadata": {
    "ExecuteTime": {
     "end_time": "2019-10-11T14:17:25.278692Z",
     "start_time": "2019-10-11T14:17:25.077691Z"
    }
   },
   "outputs": [],
   "source": [
    "def delete_digits(X, n_delet=1):\n",
    "    \"\"\"\n",
    "    This function is used to create sudoku quizzes from solutions\n",
    "    \n",
    "    Parameters\n",
    "    ----------\n",
    "    X (np.array), shape (?, 9, 9, 9|10): input solutions grids.\n",
    "    n_delet (integer): max number of digit to suppress from original solutions\n",
    "    \n",
    "    Returns\n",
    "    -------\n",
    "    grids: np.array of grids to guess in one-hot way. Shape: (?, 9, 9, 10)\n",
    "    \"\"\"\n",
    "    grids = X.argmax(3)  # get the grid in a (9, 9) integer shape\n",
    "    for grid in grids:\n",
    "        grid.flat[np.random.randint(0, 81, n_delet)] = 0  # generate blanks (replace = True)\n",
    "        \n",
    "    return to_categorical(grids)"
   ]
  },
  {
   "cell_type": "code",
   "execution_count": 7,
   "metadata": {
    "ExecuteTime": {
     "end_time": "2019-10-11T14:17:25.462892Z",
     "start_time": "2019-10-11T14:17:25.285672Z"
    }
   },
   "outputs": [],
   "source": [
    "def batch_smart_solve(grids, solver):\n",
    "    \"\"\"   \n",
    "    This function solves quizzes in the \"smart\" way. \n",
    "    It will fill blanks one after the other. Each time a digit is filled, \n",
    "    the new grid will be fed again to the solver to predict the next digit. \n",
    "    Again and again, until there is no more blank\n",
    "    \n",
    "    Parameters\n",
    "    ----------\n",
    "    grids (np.array), shape (?, 9, 9): Batch of quizzes to solve (smartly ;))\n",
    "    solver (keras.model): The neural net solver\n",
    "    \n",
    "    Returns\n",
    "    -------\n",
    "    grids (np.array), shape (?, 9, 9): Smartly solved quizzes.\n",
    "    \"\"\"\n",
    "    grids = grids.copy()\n",
    "    for _ in range((grids == 0).sum((1, 2)).max()):\n",
    "        preds = np.array(solver.predict(to_categorical(grids)))  # get predictions\n",
    "        probs = preds.max(2).T  # get highest probability for each 81 digit to predict\n",
    "        values = preds.argmax(2).T + 1  # get corresponding values\n",
    "        zeros = (grids == 0).reshape((grids.shape[0], 81))  # get blank positions\n",
    "\n",
    "        for grid, prob, value, zero in zip(grids, probs, values, zeros):\n",
    "            if any(zero):  # don't try to fill already completed grid\n",
    "                where = np.where(zero)[0]  # focus on blanks only\n",
    "                confidence_position = where[prob[zero].argmax()]  # best score FOR A ZERO VALUE (confident blank)\n",
    "                confidence_value = value[confidence_position]  # get corresponding value\n",
    "                grid.flat[confidence_position] = confidence_value  # fill digit inplace\n",
    "    return grids"
   ]
  },
  {
   "cell_type": "code",
   "execution_count": 8,
   "metadata": {
    "ExecuteTime": {
     "end_time": "2019-10-11T14:17:31.982368Z",
     "start_time": "2019-10-11T14:17:25.474861Z"
    }
   },
   "outputs": [
    {
     "name": "stdout",
     "output_type": "stream",
     "text": [
      "Data Loaded\n"
     ]
    }
   ],
   "source": [
    "input_shape = (9, 9, 10)\n",
    "(_, ytrain), (Xtest, ytest) = load_data(40000)  # We won't use _. We will work directly with ytrain\n",
    "\n",
    "# one-hot-encoding --> shapes become :\n",
    "# (?, 9, 9, 10) for Xs\n",
    "# (?, 9, 9, 9) for ys\n",
    "Xtrain = to_categorical(ytrain).astype('int32')  # from ytrain cause we will creates quizzes from solusions\n",
    "Xtest = to_categorical(Xtest).astype('int32')\n",
    "\n",
    "ytrain = to_categorical(ytrain-1).astype('int32') # (y - 1) because we \n",
    "ytest = to_categorical(ytest-1).astype('int32')   # don't want to predict zeros\n",
    "\n",
    "print('Data Loaded')"
   ]
  },
  {
   "cell_type": "code",
   "execution_count": 9,
   "metadata": {
    "ExecuteTime": {
     "end_time": "2019-10-11T14:17:36.357281Z",
     "start_time": "2019-10-11T14:17:31.987355Z"
    }
   },
   "outputs": [
    {
     "name": "stdout",
     "output_type": "stream",
     "text": [
      "WARNING:tensorflow:From D:\\Users\\Ritvik\\Anaconda3\\envs\\datascience\\lib\\site-packages\\tensorflow\\python\\framework\\op_def_library.py:263: colocate_with (from tensorflow.python.framework.ops) is deprecated and will be removed in a future version.\n",
      "Instructions for updating:\n",
      "Colocations handled automatically by placer.\n",
      "WARNING:tensorflow:From D:\\Users\\Ritvik\\Anaconda3\\envs\\datascience\\lib\\site-packages\\keras\\backend\\tensorflow_backend.py:3445: calling dropout (from tensorflow.python.ops.nn_ops) with keep_prob is deprecated and will be removed in a future version.\n",
      "Instructions for updating:\n",
      "Please use `rate` instead of `keep_prob`. Rate should be set to `rate = 1 - keep_prob`.\n",
      "Model Compiled\n"
     ]
    }
   ],
   "source": [
    "model = Sequential()\n",
    "model.add(Dense(64, activation='relu', input_shape=input_shape))\n",
    "model.add(Dropout(0.4))\n",
    "model.add(Dense(64, activation='relu'))\n",
    "model.add(Dropout(0.4))\n",
    "model.add(Flatten())\n",
    "\n",
    "grid = Input(shape=input_shape)  # inputs\n",
    "features = model(grid)  # commons features\n",
    "\n",
    "# define one Dense layer for each of the digit we want to predict\n",
    "digit_placeholders = [\n",
    "    Dense(9, activation='softmax')(features)\n",
    "    for i in range(81)\n",
    "]\n",
    "\n",
    "solver = Model(grid, digit_placeholders)  # build the whole model\n",
    "solver.compile(\n",
    "    optimizer='adam',\n",
    "    loss='categorical_crossentropy',\n",
    "    metrics=['accuracy']\n",
    ")\n",
    "print('Model Compiled')"
   ]
  },
  {
   "cell_type": "code",
   "execution_count": 10,
   "metadata": {
    "ExecuteTime": {
     "end_time": "2019-10-11T14:17:36.375205Z",
     "start_time": "2019-10-11T14:17:36.360245Z"
    }
   },
   "outputs": [
    {
     "name": "stdout",
     "output_type": "stream",
     "text": [
      "_________________________________________________________________\n",
      "Layer (type)                 Output Shape              Param #   \n",
      "=================================================================\n",
      "dense_1 (Dense)              (None, 9, 9, 64)          704       \n",
      "_________________________________________________________________\n",
      "dropout_1 (Dropout)          (None, 9, 9, 64)          0         \n",
      "_________________________________________________________________\n",
      "dense_2 (Dense)              (None, 9, 9, 64)          4160      \n",
      "_________________________________________________________________\n",
      "dropout_2 (Dropout)          (None, 9, 9, 64)          0         \n",
      "_________________________________________________________________\n",
      "flatten_1 (Flatten)          (None, 5184)              0         \n",
      "=================================================================\n",
      "Total params: 4,864\n",
      "Trainable params: 4,864\n",
      "Non-trainable params: 0\n",
      "_________________________________________________________________\n"
     ]
    }
   ],
   "source": [
    "model.summary()"
   ]
  },
  {
   "cell_type": "code",
   "execution_count": 11,
   "metadata": {
    "ExecuteTime": {
     "end_time": "2019-10-11T14:19:06.086738Z",
     "start_time": "2019-10-11T14:17:36.378196Z"
    }
   },
   "outputs": [
    {
     "name": "stdout",
     "output_type": "stream",
     "text": [
      "WARNING:tensorflow:From D:\\Users\\Ritvik\\Anaconda3\\envs\\datascience\\lib\\site-packages\\tensorflow\\python\\ops\\math_ops.py:3066: to_int32 (from tensorflow.python.ops.math_ops) is deprecated and will be removed in a future version.\n",
      "Instructions for updating:\n",
      "Use tf.cast instead.\n"
     ]
    }
   ],
   "source": [
    "solver.fit(\n",
    "    delete_digits(Xtrain, 0),  # we don't delete any digit for now\n",
    "    [ytrain[:, i, j, :] for i in range(9) for j in range(9)],  # each digit of solution\n",
    "    batch_size=128,\n",
    "    verbose=0,\n",
    "    epochs=1,  # 1 epoch should be enough for the task\n",
    ")\n",
    "notification('Model Trained', '0')"
   ]
  },
  {
   "cell_type": "code",
   "execution_count": 12,
   "metadata": {
    "ExecuteTime": {
     "end_time": "2019-10-11T15:21:57.644092Z",
     "start_time": "2019-10-11T14:19:06.089731Z"
    }
   },
   "outputs": [
    {
     "name": "stdout",
     "output_type": "stream",
     "text": [
      "Pass 1: 1\n",
      "Pass 2: 2\n",
      "Epoch 00003: early stopping\n",
      "Pass 3: 3\n",
      "Epoch 00005: early stopping\n",
      "Pass 4: 4\n",
      "Pass 5: 6\n",
      "Epoch 00006: early stopping\n",
      "Pass 6: 8\n",
      "Epoch 00004: early stopping\n",
      "Pass 7: 10\n",
      "Epoch 00004: early stopping\n",
      "Pass 8: 12\n",
      "Epoch 00004: early stopping\n",
      "Pass 9: 15\n",
      "Epoch 00003: early stopping\n",
      "Pass 10: 20\n",
      "Epoch 00003: early stopping\n",
      "Pass 11: 25\n",
      "Epoch 00003: early stopping\n",
      "Pass 12: 30\n",
      "Epoch 00003: early stopping\n",
      "Pass 13: 35\n",
      "Epoch 00003: early stopping\n",
      "Pass 14: 40\n",
      "Epoch 00003: early stopping\n",
      "Pass 15: 45\n",
      "Epoch 00003: early stopping\n",
      "Pass 16: 50\n",
      "Epoch 00003: early stopping\n",
      "Pass 17: 55\n",
      "Epoch 00003: early stopping\n",
      "Pass 18: 60\n",
      "Epoch 00003: early stopping\n",
      "Pass 19: 65\n",
      "Epoch 00003: early stopping\n"
     ]
    }
   ],
   "source": [
    "early_stop = EarlyStopping(patience=2, verbose=1)\n",
    "\n",
    "i = 1\n",
    "for nb_epochs, nb_delete in zip(\n",
    "        [2, 5, 5, 5, 7, 10, 15, 15, 15, 15, 15, 15, 15, 15, 15, 20, 20, 20, 20],  # epochs for each round\n",
    "        [1, 2, 3, 4, 6, 8, 10, 12, 15, 20, 25, 30, 35, 40, 45, 50, 55, 60, 65]  # digit to pull off\n",
    "):\n",
    "    print(f'Pass {i}: {nb_delete}')\n",
    "    i += 1\n",
    "    \n",
    "    solver.fit(\n",
    "        delete_digits(Xtrain, nb_delete),  # delete digits from training sample\n",
    "        [ytrain[:, i, j, :] for i in range(9) for j in range(9)],\n",
    "        validation_data=(\n",
    "            delete_digits(Xtrain, nb_delete), # delete same amount of digit from validation sample\n",
    "            [ytrain[:, i, j, :] for i in range(9) for j in range(9)]),\n",
    "        batch_size=128,\n",
    "        epochs=nb_epochs,\n",
    "        verbose=0,\n",
    "        callbacks=[early_stop]\n",
    "    )\n",
    "    notification('Model Trained', f'{nb_delete}')"
   ]
  },
  {
   "cell_type": "code",
   "execution_count": 13,
   "metadata": {
    "ExecuteTime": {
     "end_time": "2019-10-11T15:25:56.643351Z",
     "start_time": "2019-10-11T15:21:57.648153Z"
    }
   },
   "outputs": [],
   "source": [
    "quizzes = Xtest.argmax(3)  # quizzes in the (?, 9, 9) shape. From the test set\n",
    "true_grids = ytest.argmax(3) + 1  # true solutions dont forget to add 1 \n",
    "smart_guesses = batch_smart_solve(quizzes, solver)  # make smart guesses !\n",
    "\n",
    "deltas = diff(true_grids, smart_guesses)  # get number of errors on each quizz\n",
    "accuracy = (deltas == 0).mean()  # portion of correct solved quizzes"
   ]
  },
  {
   "cell_type": "code",
   "execution_count": 14,
   "metadata": {
    "ExecuteTime": {
     "end_time": "2019-10-11T15:25:56.652251Z",
     "start_time": "2019-10-11T15:25:56.645297Z"
    }
   },
   "outputs": [
    {
     "name": "stdout",
     "output_type": "stream",
     "text": [
      "\n",
      "Grid solved:\t 8000\n",
      "Correct ones:\t 7962\n",
      "Accuracy:\t 0.99525\n",
      "\n"
     ]
    }
   ],
   "source": [
    "print(\n",
    "\"\"\"\n",
    "Grid solved:\\t {}\n",
    "Correct ones:\\t {}\n",
    "Accuracy:\\t {}\n",
    "\"\"\".format(\n",
    "deltas.shape[0], (deltas==0).sum(), accuracy\n",
    ")\n",
    ")"
   ]
  },
  {
   "cell_type": "code",
   "execution_count": 15,
   "metadata": {
    "ExecuteTime": {
     "end_time": "2019-10-11T15:27:44.187879Z",
     "start_time": "2019-10-11T15:27:01.700963Z"
    }
   },
   "outputs": [],
   "source": [
    "solver.save('Sudoku40K.h5')"
   ]
  },
  {
   "cell_type": "code",
   "execution_count": null,
   "metadata": {},
   "outputs": [],
   "source": []
  }
 ],
 "metadata": {
  "kernelspec": {
   "display_name": "Python 3",
   "language": "python",
   "name": "python3"
  },
  "language_info": {
   "codemirror_mode": {
    "name": "ipython",
    "version": 3
   },
   "file_extension": ".py",
   "mimetype": "text/x-python",
   "name": "python",
   "nbconvert_exporter": "python",
   "pygments_lexer": "ipython3",
   "version": "3.7.3"
  },
  "toc": {
   "base_numbering": 1,
   "nav_menu": {},
   "number_sections": true,
   "sideBar": true,
   "skip_h1_title": false,
   "title_cell": "Table of Contents",
   "title_sidebar": "Contents",
   "toc_cell": false,
   "toc_position": {},
   "toc_section_display": true,
   "toc_window_display": false
  },
  "varInspector": {
   "cols": {
    "lenName": 16,
    "lenType": 16,
    "lenVar": 40
   },
   "kernels_config": {
    "python": {
     "delete_cmd_postfix": "",
     "delete_cmd_prefix": "del ",
     "library": "var_list.py",
     "varRefreshCmd": "print(var_dic_list())"
    },
    "r": {
     "delete_cmd_postfix": ") ",
     "delete_cmd_prefix": "rm(",
     "library": "var_list.r",
     "varRefreshCmd": "cat(var_dic_list()) "
    }
   },
   "types_to_exclude": [
    "module",
    "function",
    "builtin_function_or_method",
    "instance",
    "_Feature"
   ],
   "window_display": false
  }
 },
 "nbformat": 4,
 "nbformat_minor": 2
}
