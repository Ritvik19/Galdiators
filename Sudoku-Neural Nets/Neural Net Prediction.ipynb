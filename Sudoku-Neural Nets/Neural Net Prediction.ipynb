{
 "cells": [
  {
   "cell_type": "code",
   "execution_count": 1,
   "metadata": {
    "ExecuteTime": {
     "end_time": "2019-12-10T16:20:35.715670Z",
     "start_time": "2019-12-10T16:19:56.390807Z"
    }
   },
   "outputs": [
    {
     "name": "stderr",
     "output_type": "stream",
     "text": [
      "Using TensorFlow backend.\n"
     ]
    }
   ],
   "source": [
    "import numpy as np\n",
    "\n",
    "from keras.models import load_model\n",
    "from keras.utils import to_categorical"
   ]
  },
  {
   "cell_type": "code",
   "execution_count": 2,
   "metadata": {
    "ExecuteTime": {
     "end_time": "2019-12-10T16:20:35.744594Z",
     "start_time": "2019-12-10T16:20:35.718664Z"
    }
   },
   "outputs": [],
   "source": [
    "def diff(grids_true, grids_pred):\n",
    "    \"\"\"\n",
    "    This function shows how well predicted quizzes fit to actual solutions.\n",
    "    It will store sum of differences for each pair (solution, guess)\n",
    "    \n",
    "    Parameters\n",
    "    ----------\n",
    "    grids_true (np.array), shape (?, 9, 9): Real solutions to guess in the digit repesentation\n",
    "    grids_pred (np.array), shape (?, 9, 9): Guesses\n",
    "    \n",
    "    Returns\n",
    "    -------\n",
    "    diff (np.array), shape (?,): Number of differences for each pair (solution, guess)\n",
    "    \"\"\"\n",
    "    return (grids_true != grids_pred).sum((1, 2))\n",
    "\n",
    "def batch_smart_solve(grids, solver):\n",
    "    \"\"\"   \n",
    "    This function solves quizzes in the \"smart\" way. \n",
    "    It will fill blanks one after the other. Each time a digit is filled, \n",
    "    the new grid will be fed again to the solver to predict the next digit. \n",
    "    Again and again, until there is no more blank\n",
    "    \n",
    "    Parameters\n",
    "    ----------\n",
    "    grids (np.array), shape (?, 9, 9): Batch of quizzes to solve (smartly ;))\n",
    "    solver (keras.model): The neural net solver\n",
    "    \n",
    "    Returns\n",
    "    -------\n",
    "    grids (np.array), shape (?, 9, 9): Smartly solved quizzes.\n",
    "    \"\"\"\n",
    "    grids = grids.copy()\n",
    "    for _ in range((grids == 0).sum((1, 2)).max()):\n",
    "        preds = np.array(solver.predict(to_categorical(grids)))  # get predictions\n",
    "        probs = preds.max(2).T  # get highest probability for each 81 digit to predict\n",
    "        values = preds.argmax(2).T + 1  # get corresponding values\n",
    "        zeros = (grids == 0).reshape((grids.shape[0], 81))  # get blank positions\n",
    "\n",
    "        for grid, prob, value, zero in zip(grids, probs, values, zeros):\n",
    "            if any(zero):  # don't try to fill already completed grid\n",
    "                where = np.where(zero)[0]  # focus on blanks only\n",
    "                confidence_position = where[prob[zero].argmax()]  # best score FOR A ZERO VALUE (confident blank)\n",
    "                confidence_value = value[confidence_position]  # get corresponding value\n",
    "                grid.flat[confidence_position] = confidence_value  # fill digit inplace\n",
    "    return grids"
   ]
  },
  {
   "cell_type": "code",
   "execution_count": 3,
   "metadata": {
    "ExecuteTime": {
     "end_time": "2019-12-10T16:21:51.817216Z",
     "start_time": "2019-12-10T16:20:35.750579Z"
    }
   },
   "outputs": [
    {
     "name": "stdout",
     "output_type": "stream",
     "text": [
      "WARNING:tensorflow:From D:\\Users\\Ritvik\\Anaconda3\\envs\\datascience\\lib\\site-packages\\tensorflow\\python\\framework\\op_def_library.py:263: colocate_with (from tensorflow.python.framework.ops) is deprecated and will be removed in a future version.\n",
      "Instructions for updating:\n",
      "Colocations handled automatically by placer.\n",
      "WARNING:tensorflow:From D:\\Users\\Ritvik\\Anaconda3\\envs\\datascience\\lib\\site-packages\\keras\\backend\\tensorflow_backend.py:3445: calling dropout (from tensorflow.python.ops.nn_ops) with keep_prob is deprecated and will be removed in a future version.\n",
      "Instructions for updating:\n",
      "Please use `rate` instead of `keep_prob`. Rate should be set to `rate = 1 - keep_prob`.\n",
      "WARNING:tensorflow:From D:\\Users\\Ritvik\\Anaconda3\\envs\\datascience\\lib\\site-packages\\tensorflow\\python\\ops\\math_ops.py:3066: to_int32 (from tensorflow.python.ops.math_ops) is deprecated and will be removed in a future version.\n",
      "Instructions for updating:\n",
      "Use tf.cast instead.\n"
     ]
    }
   ],
   "source": [
    "solver = load_model('Sudoku.h5')"
   ]
  },
  {
   "cell_type": "code",
   "execution_count": 4,
   "metadata": {
    "ExecuteTime": {
     "end_time": "2019-12-10T16:21:51.832176Z",
     "start_time": "2019-12-10T16:21:51.821206Z"
    }
   },
   "outputs": [],
   "source": [
    "quizzes = [\n",
    "    '004300209005009001070060043006002087190007400050083000600000105003508690042910300'\n",
    "]"
   ]
  },
  {
   "cell_type": "code",
   "execution_count": 5,
   "metadata": {
    "ExecuteTime": {
     "end_time": "2019-12-10T16:21:52.063558Z",
     "start_time": "2019-12-10T16:21:51.845141Z"
    }
   },
   "outputs": [],
   "source": [
    "quizzes_input =np.array([np.reshape([int(d) for d in flatten_grid], (9, 9)) for flatten_grid in quizzes])"
   ]
  },
  {
   "cell_type": "code",
   "execution_count": 6,
   "metadata": {
    "ExecuteTime": {
     "end_time": "2019-12-10T16:21:52.406641Z",
     "start_time": "2019-12-10T16:21:52.067549Z"
    }
   },
   "outputs": [
    {
     "data": {
      "text/plain": [
       "array([[0, 0, 4, 3, 0, 0, 2, 0, 9],\n",
       "       [0, 0, 5, 0, 0, 9, 0, 0, 1],\n",
       "       [0, 7, 0, 0, 6, 0, 0, 4, 3],\n",
       "       [0, 0, 6, 0, 0, 2, 0, 8, 7],\n",
       "       [1, 9, 0, 0, 0, 7, 4, 0, 0],\n",
       "       [0, 5, 0, 0, 8, 3, 0, 0, 0],\n",
       "       [6, 0, 0, 0, 0, 0, 1, 0, 5],\n",
       "       [0, 0, 3, 5, 0, 8, 6, 9, 0],\n",
       "       [0, 4, 2, 9, 1, 0, 3, 0, 0]])"
      ]
     },
     "execution_count": 6,
     "metadata": {},
     "output_type": "execute_result"
    }
   ],
   "source": [
    "quizzes_input[0]"
   ]
  },
  {
   "cell_type": "code",
   "execution_count": 7,
   "metadata": {
    "ExecuteTime": {
     "end_time": "2019-12-10T16:21:57.694503Z",
     "start_time": "2019-12-10T16:21:52.410632Z"
    }
   },
   "outputs": [],
   "source": [
    "smart_guesses = batch_smart_solve(quizzes_input, solver)"
   ]
  },
  {
   "cell_type": "code",
   "execution_count": 8,
   "metadata": {
    "ExecuteTime": {
     "end_time": "2019-12-10T16:21:57.720434Z",
     "start_time": "2019-12-10T16:21:57.699490Z"
    }
   },
   "outputs": [
    {
     "data": {
      "text/plain": [
       "array([[8, 6, 4, 3, 7, 1, 2, 5, 9],\n",
       "       [3, 2, 5, 8, 4, 9, 7, 6, 1],\n",
       "       [9, 7, 1, 2, 6, 5, 8, 4, 3],\n",
       "       [4, 3, 6, 1, 9, 2, 5, 8, 7],\n",
       "       [1, 9, 8, 6, 5, 7, 4, 3, 2],\n",
       "       [2, 5, 7, 4, 8, 3, 9, 1, 6],\n",
       "       [6, 8, 9, 7, 3, 4, 1, 2, 5],\n",
       "       [7, 1, 3, 5, 2, 8, 6, 9, 4],\n",
       "       [5, 4, 2, 9, 1, 6, 3, 7, 8]])"
      ]
     },
     "execution_count": 8,
     "metadata": {},
     "output_type": "execute_result"
    }
   ],
   "source": [
    "smart_guesses[0]"
   ]
  },
  {
   "cell_type": "code",
   "execution_count": null,
   "metadata": {},
   "outputs": [],
   "source": []
  }
 ],
 "metadata": {
  "kernelspec": {
   "display_name": "Python 3",
   "language": "python",
   "name": "python3"
  },
  "language_info": {
   "codemirror_mode": {
    "name": "ipython",
    "version": 3
   },
   "file_extension": ".py",
   "mimetype": "text/x-python",
   "name": "python",
   "nbconvert_exporter": "python",
   "pygments_lexer": "ipython3",
   "version": "3.7.3"
  },
  "toc": {
   "base_numbering": 1,
   "nav_menu": {},
   "number_sections": true,
   "sideBar": true,
   "skip_h1_title": false,
   "title_cell": "Table of Contents",
   "title_sidebar": "Contents",
   "toc_cell": false,
   "toc_position": {},
   "toc_section_display": true,
   "toc_window_display": false
  },
  "varInspector": {
   "cols": {
    "lenName": 16,
    "lenType": 16,
    "lenVar": 40
   },
   "kernels_config": {
    "python": {
     "delete_cmd_postfix": "",
     "delete_cmd_prefix": "del ",
     "library": "var_list.py",
     "varRefreshCmd": "print(var_dic_list())"
    },
    "r": {
     "delete_cmd_postfix": ") ",
     "delete_cmd_prefix": "rm(",
     "library": "var_list.r",
     "varRefreshCmd": "cat(var_dic_list()) "
    }
   },
   "types_to_exclude": [
    "module",
    "function",
    "builtin_function_or_method",
    "instance",
    "_Feature"
   ],
   "window_display": false
  }
 },
 "nbformat": 4,
 "nbformat_minor": 2
}
