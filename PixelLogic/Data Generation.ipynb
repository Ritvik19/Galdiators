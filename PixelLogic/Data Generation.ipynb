{
 "cells": [
  {
   "cell_type": "code",
   "execution_count": null,
   "metadata": {
    "ExecuteTime": {
     "end_time": "2019-12-19T17:34:26.496350Z",
     "start_time": "2019-12-19T17:34:11.240933Z"
    }
   },
   "outputs": [],
   "source": [
    "import numpy as np\n",
    "import pandas as pd\n",
    "from tqdm.auto import tqdm, trange\n",
    "import os\n",
    "import csv"
   ]
  },
  {
   "cell_type": "code",
   "execution_count": null,
   "metadata": {
    "ExecuteTime": {
     "end_time": "2019-12-19T17:34:27.001832Z",
     "start_time": "2019-12-19T17:34:26.498344Z"
    }
   },
   "outputs": [],
   "source": [
    "PATH = '../../../[Data] PixelLogic/PixelLogic.csv'\n",
    "if not os.path.exists(PATH):\n",
    "    pd.DataFrame(columns = [f'pixel{i}' for i in range(100)]+\n",
    "                 [f'colsum{i}' for i in range(10)]+\n",
    "                 [f'rowsum{i}' for i in range(10)]\n",
    "                ).to_csv(PATH, index=False)"
   ]
  },
  {
   "cell_type": "code",
   "execution_count": null,
   "metadata": {
    "ExecuteTime": {
     "end_time": "2019-12-19T17:34:27.025681Z",
     "start_time": "2019-12-19T17:34:27.008729Z"
    }
   },
   "outputs": [],
   "source": [
    "def gen_data_point(threshold):\n",
    "    \"\"\"\n",
    "    returns: flattened-array, columnwise sum, rowwise sum\n",
    "    \"\"\"\n",
    "    a = np.random.randn(10,10)\n",
    "    min_val = a.min()\n",
    "    max_val = a.max()\n",
    "    a -= min_val\n",
    "    a /= (max_val-min_val)\n",
    "    a = a < threshold\n",
    "    a = a.astype('int8')\n",
    "    return np.concatenate((a.reshape(100), a.sum(0), a.sum(1)))"
   ]
  },
  {
   "cell_type": "code",
   "execution_count": null,
   "metadata": {
    "ExecuteTime": {
     "end_time": "2019-12-19T17:35:00.159418Z",
     "start_time": "2019-12-19T17:34:27.033660Z"
    }
   },
   "outputs": [],
   "source": [
    "for threshold, num_points in tqdm(zip([0.1, 0.2, 0.3, 0.4, 0.5, 0.6, 0.7], [49, 36, 25, 16, 9, 4, 1])):\n",
    "    for i in trange(num_points*1_00_000):\n",
    "        with open(PATH, 'a') as csvfile:\n",
    "            csvwriter = csv.writer(csvfile)\n",
    "            csvwriter.writerow(gen_data_point(threshold))"
   ]
  },
  {
   "cell_type": "code",
   "execution_count": null,
   "metadata": {},
   "outputs": [],
   "source": []
  }
 ],
 "metadata": {
  "kernelspec": {
   "display_name": "Python 3",
   "language": "python",
   "name": "python3"
  },
  "language_info": {
   "codemirror_mode": {
    "name": "ipython",
    "version": 3
   },
   "file_extension": ".py",
   "mimetype": "text/x-python",
   "name": "python",
   "nbconvert_exporter": "python",
   "pygments_lexer": "ipython3",
   "version": "3.7.3"
  },
  "toc": {
   "base_numbering": 1,
   "nav_menu": {},
   "number_sections": true,
   "sideBar": true,
   "skip_h1_title": false,
   "title_cell": "Table of Contents",
   "title_sidebar": "Contents",
   "toc_cell": false,
   "toc_position": {},
   "toc_section_display": true,
   "toc_window_display": false
  },
  "varInspector": {
   "cols": {
    "lenName": 16,
    "lenType": 16,
    "lenVar": 40
   },
   "kernels_config": {
    "python": {
     "delete_cmd_postfix": "",
     "delete_cmd_prefix": "del ",
     "library": "var_list.py",
     "varRefreshCmd": "print(var_dic_list())"
    },
    "r": {
     "delete_cmd_postfix": ") ",
     "delete_cmd_prefix": "rm(",
     "library": "var_list.r",
     "varRefreshCmd": "cat(var_dic_list()) "
    }
   },
   "types_to_exclude": [
    "module",
    "function",
    "builtin_function_or_method",
    "instance",
    "_Feature"
   ],
   "window_display": false
  }
 },
 "nbformat": 4,
 "nbformat_minor": 2
}
