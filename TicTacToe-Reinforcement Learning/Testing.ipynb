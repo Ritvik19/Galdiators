{
 "cells": [
  {
   "cell_type": "code",
   "execution_count": 1,
   "metadata": {
    "ExecuteTime": {
     "end_time": "2019-10-13T10:21:04.443069Z",
     "start_time": "2019-10-13T10:21:04.210194Z"
    }
   },
   "outputs": [],
   "source": [
    "import numpy as np\n",
    "from math import inf as infinity\n",
    "import itertools\n",
    "import random"
   ]
  },
  {
   "cell_type": "code",
   "execution_count": 2,
   "metadata": {
    "ExecuteTime": {
     "end_time": "2019-10-13T10:21:04.452162Z",
     "start_time": "2019-10-13T10:21:04.447052Z"
    }
   },
   "outputs": [],
   "source": [
    "game_state = [[' ',' ',' '],\n",
    "              [' ',' ',' '],\n",
    "              [' ',' ',' ']]\n",
    "players = ['X','O']"
   ]
  },
  {
   "cell_type": "code",
   "execution_count": 3,
   "metadata": {
    "ExecuteTime": {
     "end_time": "2019-10-13T10:21:04.576100Z",
     "start_time": "2019-10-13T10:21:04.456153Z"
    }
   },
   "outputs": [],
   "source": [
    "def play_move(state, player, block_num):\n",
    "    if state[int((block_num-1)/3)][(block_num-1)%3] is ' ':\n",
    "        state[int((block_num-1)/3)][(block_num-1)%3] = player\n",
    "    else:\n",
    "        block_num = int(input(\"Block is not empty, ya blockhead! Choose again: \"))\n",
    "        play_move(state, player, block_num)"
   ]
  },
  {
   "cell_type": "code",
   "execution_count": 4,
   "metadata": {
    "ExecuteTime": {
     "end_time": "2019-10-13T10:21:04.693253Z",
     "start_time": "2019-10-13T10:21:04.579369Z"
    }
   },
   "outputs": [],
   "source": [
    "def copy_game_state(state):\n",
    "    new_state = [[' ',' ',' '],[' ',' ',' '],[' ',' ',' ']]\n",
    "    for i in range(3):\n",
    "        for j in range(3):\n",
    "            new_state[i][j] = state[i][j]\n",
    "    return new_state"
   ]
  },
  {
   "cell_type": "code",
   "execution_count": 5,
   "metadata": {
    "ExecuteTime": {
     "end_time": "2019-10-13T10:21:04.803444Z",
     "start_time": "2019-10-13T10:21:04.698248Z"
    }
   },
   "outputs": [],
   "source": [
    "def check_current_state(game_state):    \n",
    "    # Check horizontals\n",
    "    if (game_state[0][0] == game_state[0][1] and game_state[0][1] == game_state[0][2] and game_state[0][0] is not ' '):\n",
    "        return game_state[0][0], \"Done\"\n",
    "    if (game_state[1][0] == game_state[1][1] and game_state[1][1] == game_state[1][2] and game_state[1][0] is not ' '):\n",
    "        return game_state[1][0], \"Done\"\n",
    "    if (game_state[2][0] == game_state[2][1] and game_state[2][1] == game_state[2][2] and game_state[2][0] is not ' '):\n",
    "        return game_state[2][0], \"Done\"\n",
    "    \n",
    "    # Check verticals\n",
    "    if (game_state[0][0] == game_state[1][0] and game_state[1][0] == game_state[2][0] and game_state[0][0] is not ' '):\n",
    "        return game_state[0][0], \"Done\"\n",
    "    if (game_state[0][1] == game_state[1][1] and game_state[1][1] == game_state[2][1] and game_state[0][1] is not ' '):\n",
    "        return game_state[0][1], \"Done\"\n",
    "    if (game_state[0][2] == game_state[1][2] and game_state[1][2] == game_state[2][2] and game_state[0][2] is not ' '):\n",
    "        return game_state[0][2], \"Done\"\n",
    "    \n",
    "    # Check diagonals\n",
    "    if (game_state[0][0] == game_state[1][1] and game_state[1][1] == game_state[2][2] and game_state[0][0] is not ' '):\n",
    "        return game_state[1][1], \"Done\"\n",
    "    if (game_state[2][0] == game_state[1][1] and game_state[1][1] == game_state[0][2] and game_state[2][0] is not ' '):\n",
    "        return game_state[1][1], \"Done\"\n",
    "    \n",
    "    # Check if draw\n",
    "    draw_flag = 0\n",
    "    for i in range(3):\n",
    "        for j in range(3):\n",
    "            if game_state[i][j] is ' ':\n",
    "                draw_flag = 1\n",
    "    if draw_flag is 0:\n",
    "        return None, \"Draw\"\n",
    "    \n",
    "    return None, \"Not Done\""
   ]
  },
  {
   "cell_type": "code",
   "execution_count": 6,
   "metadata": {
    "ExecuteTime": {
     "end_time": "2019-10-13T10:21:04.937176Z",
     "start_time": "2019-10-13T10:21:04.809429Z"
    }
   },
   "outputs": [],
   "source": [
    "def print_board(game_state):\n",
    "    print('----------------')\n",
    "    print('| ' + str(game_state[0][0]) + ' || ' + str(game_state[0][1]) + ' || ' + str(game_state[0][2]) + ' |')\n",
    "    print('----------------')\n",
    "    print('| ' + str(game_state[1][0]) + ' || ' + str(game_state[1][1]) + ' || ' + str(game_state[1][2]) + ' |')\n",
    "    print('----------------')\n",
    "    print('| ' + str(game_state[2][0]) + ' || ' + str(game_state[2][1]) + ' || ' + str(game_state[2][2]) + ' |')\n",
    "    print('----------------')\n",
    "    "
   ]
  },
  {
   "cell_type": "code",
   "execution_count": 7,
   "metadata": {
    "ExecuteTime": {
     "end_time": "2019-10-13T10:21:05.307926Z",
     "start_time": "2019-10-13T10:21:04.943120Z"
    }
   },
   "outputs": [
    {
     "name": "stdout",
     "output_type": "stream",
     "text": [
      "n_states = 19683 \n",
      "n_actions = 9\n"
     ]
    }
   ],
   "source": [
    "# Initialize state values\n",
    "player = ['X','O',' ']\n",
    "states_dict = {}\n",
    "all_possible_states = [[list(i[0:3]),list(i[3:6]),list(i[6:10])] for i in itertools.product(player, repeat = 9)]\n",
    "n_states = len(all_possible_states) # 2 players, 9 spaces\n",
    "n_actions = 9   # 9 spaces\n",
    "state_values_for_AI = np.full((n_states),0.0)\n",
    "print(\"n_states = %i \\nn_actions = %i\"%(n_states, n_actions))\n",
    "\n",
    "for i in range(n_states):\n",
    "    states_dict[i] = all_possible_states[i]\n",
    "    winner, _ = check_current_state(states_dict[i])\n",
    "    if winner == 'O':   # AI won\n",
    "        state_values_for_AI[i] = 1\n",
    "    elif winner == 'X':   # AI lost\n",
    "        state_values_for_AI[i] = -1"
   ]
  },
  {
   "cell_type": "code",
   "execution_count": 8,
   "metadata": {
    "ExecuteTime": {
     "end_time": "2019-10-13T10:21:05.319004Z",
     "start_time": "2019-10-13T10:21:05.312943Z"
    }
   },
   "outputs": [],
   "source": [
    "def update_state_value(curr_state_idx, next_state_idx, learning_rate):\n",
    "    new_value = state_values_for_AI[curr_state_idx] + learning_rate*(state_values_for_AI[next_state_idx]  - state_values_for_AI[curr_state_idx])\n",
    "    state_values_for_AI[curr_state_idx] = new_value"
   ]
  },
  {
   "cell_type": "code",
   "execution_count": 9,
   "metadata": {
    "ExecuteTime": {
     "end_time": "2019-10-13T10:21:05.443447Z",
     "start_time": "2019-10-13T10:21:05.322893Z"
    }
   },
   "outputs": [],
   "source": [
    "def getBestMove(state, player):\n",
    "    '''\n",
    "    Reinforcement Learning Algorithm\n",
    "    '''    \n",
    "    moves = []\n",
    "    curr_state_values = []\n",
    "    empty_cells = []\n",
    "    for i in range(3):\n",
    "        for j in range(3):\n",
    "            if state[i][j] is ' ':\n",
    "                empty_cells.append(i*3 + (j+1))\n",
    "    \n",
    "    for empty_cell in empty_cells:\n",
    "        moves.append(empty_cell)\n",
    "        new_state = copy_game_state(state)\n",
    "        play_move(new_state, player, empty_cell)\n",
    "        next_state_idx = list(states_dict.keys())[list(states_dict.values()).index(new_state)]\n",
    "        curr_state_values.append(state_values_for_AI[next_state_idx])\n",
    "        \n",
    "    print('Possible moves = ' + str(moves))\n",
    "    print('Move values = ' + str(curr_state_values))    \n",
    "    best_move_idx = np.argmax(curr_state_values)\n",
    "    best_move = moves[best_move_idx]\n",
    "    return best_move"
   ]
  },
  {
   "cell_type": "code",
   "execution_count": 10,
   "metadata": {
    "ExecuteTime": {
     "end_time": "2019-10-13T10:21:54.975943Z",
     "start_time": "2019-10-13T10:21:05.447658Z"
    }
   },
   "outputs": [
    {
     "name": "stdout",
     "output_type": "stream",
     "text": [
      "\n",
      "New Game!\n",
      "----------------\n",
      "|   ||   ||   |\n",
      "----------------\n",
      "|   ||   ||   |\n",
      "----------------\n",
      "|   ||   ||   |\n",
      "----------------\n",
      "Choose which player goes first - X (You - the petty human) or O(The mighty AI): O\n",
      "Possible moves = [1, 2, 3, 4, 5, 6, 7, 8, 9]\n",
      "Move values = [-0.005383, -0.032996, -0.028391, -0.008744, -0.00979, -0.015263, -0.010632, -0.0056, -0.001183]\n",
      "AI plays move: 9\n",
      "----------------\n",
      "|   ||   ||   |\n",
      "----------------\n",
      "|   ||   ||   |\n",
      "----------------\n",
      "|   ||   || O |\n",
      "----------------\n",
      "Oye Human, your turn! Choose where to place (1 to 9): 8\n",
      "----------------\n",
      "|   ||   ||   |\n",
      "----------------\n",
      "|   ||   ||   |\n",
      "----------------\n",
      "|   || X || O |\n",
      "----------------\n",
      "Possible moves = [1, 2, 3, 4, 5, 6, 7]\n",
      "Move values = [-0.029504, 0.0, 0.0, -0.00215, 0.0, 0.0, 0.0]\n",
      "AI plays move: 2\n",
      "----------------\n",
      "|   || O ||   |\n",
      "----------------\n",
      "|   ||   ||   |\n",
      "----------------\n",
      "|   || X || O |\n",
      "----------------\n",
      "Oye Human, your turn! Choose where to place (1 to 9): 7\n",
      "----------------\n",
      "|   || O ||   |\n",
      "----------------\n",
      "|   ||   ||   |\n",
      "----------------\n",
      "| X || X || O |\n",
      "----------------\n",
      "Possible moves = [1, 3, 4, 5, 6]\n",
      "Move values = [0.0, 0.0, 0.0, 0.0, 0.0]\n",
      "AI plays move: 1\n",
      "----------------\n",
      "| O || O ||   |\n",
      "----------------\n",
      "|   ||   ||   |\n",
      "----------------\n",
      "| X || X || O |\n",
      "----------------\n",
      "Oye Human, your turn! Choose where to place (1 to 9): 3\n",
      "----------------\n",
      "| O || O || X |\n",
      "----------------\n",
      "|   ||   ||   |\n",
      "----------------\n",
      "| X || X || O |\n",
      "----------------\n",
      "Possible moves = [4, 5, 6]\n",
      "Move values = [0.0, 1.0, 0.0]\n",
      "AI plays move: 5\n",
      "----------------\n",
      "| O || O || X |\n",
      "----------------\n",
      "|   || O ||   |\n",
      "----------------\n",
      "| X || X || O |\n",
      "----------------\n",
      "O won!\n",
      "Wanna try again ?(Y/N) : Y\n",
      "\n",
      "New Game!\n",
      "----------------\n",
      "|   ||   ||   |\n",
      "----------------\n",
      "|   ||   ||   |\n",
      "----------------\n",
      "|   ||   ||   |\n",
      "----------------\n",
      "Choose which player goes first - X (You - the petty human) or O(The mighty AI): X\n",
      "Oye Human, your turn! Choose where to place (1 to 9): 5\n",
      "----------------\n",
      "|   ||   ||   |\n",
      "----------------\n",
      "|   || X ||   |\n",
      "----------------\n",
      "|   ||   ||   |\n",
      "----------------\n",
      "Possible moves = [1, 2, 3, 4, 6, 7, 8, 9]\n",
      "Move values = [-0.001207, -0.002621, -0.008316, 0.006643, -0.000523, -0.032987, 0.006155, 0.00358]\n",
      "AI plays move: 4\n",
      "----------------\n",
      "|   ||   ||   |\n",
      "----------------\n",
      "| O || X ||   |\n",
      "----------------\n",
      "|   ||   ||   |\n",
      "----------------\n",
      "Oye Human, your turn! Choose where to place (1 to 9): 2\n",
      "----------------\n",
      "|   || X ||   |\n",
      "----------------\n",
      "| O || X ||   |\n",
      "----------------\n",
      "|   ||   ||   |\n",
      "----------------\n",
      "Possible moves = [1, 3, 6, 7, 8, 9]\n",
      "Move values = [0.1168, 0.0, 0.0, 0.0, 0.0, -0.0576]\n",
      "AI plays move: 1\n",
      "----------------\n",
      "| O || X ||   |\n",
      "----------------\n",
      "| O || X ||   |\n",
      "----------------\n",
      "|   ||   ||   |\n",
      "----------------\n",
      "Oye Human, your turn! Choose where to place (1 to 9): 7\n",
      "----------------\n",
      "| O || X ||   |\n",
      "----------------\n",
      "| O || X ||   |\n",
      "----------------\n",
      "| X ||   ||   |\n",
      "----------------\n",
      "Possible moves = [3, 6, 8, 9]\n",
      "Move values = [-0.36, -0.2, -0.36, -0.16]\n",
      "AI plays move: 9\n",
      "----------------\n",
      "| O || X ||   |\n",
      "----------------\n",
      "| O || X ||   |\n",
      "----------------\n",
      "| X ||   || O |\n",
      "----------------\n",
      "Oye Human, your turn! Choose where to place (1 to 9): 3\n",
      "----------------\n",
      "| O || X || X |\n",
      "----------------\n",
      "| O || X ||   |\n",
      "----------------\n",
      "| X ||   || O |\n",
      "----------------\n",
      "X won!\n",
      "Wanna try again ?(Y/N) : N\n",
      "Bye\n"
     ]
    }
   ],
   "source": [
    "# PLaying\n",
    "    \n",
    "#LOAD TRAINED STATE VALUES\n",
    "state_values_for_AI = np.loadtxt('trained_state_values_O.txt', dtype=np.float64)\n",
    "\n",
    "play_again = 'Y'\n",
    "while play_again == 'Y' or play_again == 'y':\n",
    "    game_state = [[' ',' ',' '],\n",
    "              [' ',' ',' '],\n",
    "              [' ',' ',' ']]\n",
    "    current_state = \"Not Done\"\n",
    "    print(\"\\nNew Game!\")\n",
    "    print_board(game_state)\n",
    "    player_choice = input(\"Choose which player goes first - X (You - the petty human) or O(The mighty AI): \")\n",
    "    winner = None\n",
    "    \n",
    "    if player_choice == 'X' or player_choice == 'x':\n",
    "        current_player_idx = 0\n",
    "    else:\n",
    "        current_player_idx = 1\n",
    "        \n",
    "    while current_state == \"Not Done\":\n",
    "        curr_state_idx = list(states_dict.keys())[list(states_dict.values()).index(game_state)]\n",
    "        if current_player_idx == 0: # Human's turn\n",
    "            block_choice = int(input(\"Oye Human, your turn! Choose where to place (1 to 9): \"))\n",
    "            play_move(game_state ,players[current_player_idx], block_choice)\n",
    "            \n",
    "        else:   # AI's turn\n",
    "            block_choice = getBestMove(game_state, players[current_player_idx])\n",
    "            play_move(game_state ,players[current_player_idx], block_choice)\n",
    "            print(\"AI plays move: \" + str(block_choice))\n",
    "        \n",
    "        print_board(game_state)\n",
    "        winner, current_state = check_current_state(game_state)\n",
    "        if winner is not None:\n",
    "            print(str(winner) + \" won!\")\n",
    "        else:\n",
    "            current_player_idx = (current_player_idx + 1)%2\n",
    "        \n",
    "        if current_state is \"Draw\":\n",
    "            print(\"Draw!\")\n",
    "            \n",
    "    play_again = input('Wanna try again ?(Y/N) : ')\n",
    "print('Bye')        "
   ]
  }
 ],
 "metadata": {
  "kernelspec": {
   "display_name": "Python 3",
   "language": "python",
   "name": "python3"
  },
  "language_info": {
   "codemirror_mode": {
    "name": "ipython",
    "version": 3
   },
   "file_extension": ".py",
   "mimetype": "text/x-python",
   "name": "python",
   "nbconvert_exporter": "python",
   "pygments_lexer": "ipython3",
   "version": "3.7.3"
  },
  "toc": {
   "base_numbering": 1,
   "nav_menu": {},
   "number_sections": true,
   "sideBar": true,
   "skip_h1_title": false,
   "title_cell": "Table of Contents",
   "title_sidebar": "Contents",
   "toc_cell": false,
   "toc_position": {},
   "toc_section_display": true,
   "toc_window_display": false
  },
  "varInspector": {
   "cols": {
    "lenName": 16,
    "lenType": 16,
    "lenVar": 40
   },
   "kernels_config": {
    "python": {
     "delete_cmd_postfix": "",
     "delete_cmd_prefix": "del ",
     "library": "var_list.py",
     "varRefreshCmd": "print(var_dic_list())"
    },
    "r": {
     "delete_cmd_postfix": ") ",
     "delete_cmd_prefix": "rm(",
     "library": "var_list.r",
     "varRefreshCmd": "cat(var_dic_list()) "
    }
   },
   "types_to_exclude": [
    "module",
    "function",
    "builtin_function_or_method",
    "instance",
    "_Feature"
   ],
   "window_display": false
  }
 },
 "nbformat": 4,
 "nbformat_minor": 2
}
