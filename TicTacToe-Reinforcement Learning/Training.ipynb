{
 "cells": [
  {
   "cell_type": "code",
   "execution_count": 1,
   "metadata": {
    "ExecuteTime": {
     "end_time": "2019-10-13T06:13:32.110088Z",
     "start_time": "2019-10-13T06:13:31.885689Z"
    }
   },
   "outputs": [],
   "source": [
    "import numpy as np\n",
    "from math import inf as infinity\n",
    "import itertools\n",
    "import random\n",
    "import time\n",
    "\n",
    "from IPython.display import clear_output"
   ]
  },
  {
   "cell_type": "code",
   "execution_count": 2,
   "metadata": {
    "ExecuteTime": {
     "end_time": "2019-10-13T06:13:32.117071Z",
     "start_time": "2019-10-13T06:13:32.112088Z"
    }
   },
   "outputs": [],
   "source": [
    "game_state = [[' ',' ',' '],\n",
    "              [' ',' ',' '],\n",
    "              [' ',' ',' ']]\n",
    "players = ['X','O']"
   ]
  },
  {
   "cell_type": "code",
   "execution_count": 3,
   "metadata": {
    "ExecuteTime": {
     "end_time": "2019-10-13T06:13:32.277277Z",
     "start_time": "2019-10-13T06:13:32.120063Z"
    }
   },
   "outputs": [],
   "source": [
    "def play_move(state, player, block_num):\n",
    "    if state[int((block_num-1)/3)][(block_num-1)%3] is ' ':\n",
    "        state[int((block_num-1)/3)][(block_num-1)%3] = player\n",
    "    else:\n",
    "        block_num = int(input(\"Block is not empty, ya blockhead! Choose again: \"))\n",
    "        play_move(state, player, block_num)"
   ]
  },
  {
   "cell_type": "code",
   "execution_count": 4,
   "metadata": {
    "ExecuteTime": {
     "end_time": "2019-10-13T06:13:32.478294Z",
     "start_time": "2019-10-13T06:13:32.280274Z"
    }
   },
   "outputs": [],
   "source": [
    "def copy_game_state(state):\n",
    "    new_state = [[' ',' ',' '],[' ',' ',' '],[' ',' ',' ']]\n",
    "    for i in range(3):\n",
    "        for j in range(3):\n",
    "            new_state[i][j] = state[i][j]\n",
    "    return new_state"
   ]
  },
  {
   "cell_type": "code",
   "execution_count": 5,
   "metadata": {
    "ExecuteTime": {
     "end_time": "2019-10-13T06:13:32.687526Z",
     "start_time": "2019-10-13T06:13:32.481200Z"
    }
   },
   "outputs": [],
   "source": [
    "def check_current_state(game_state):    \n",
    "    # Check horizontals\n",
    "    if (game_state[0][0] == game_state[0][1] and game_state[0][1] == game_state[0][2] and game_state[0][0] is not ' '):\n",
    "        return game_state[0][0], \"Done\"\n",
    "    if (game_state[1][0] == game_state[1][1] and game_state[1][1] == game_state[1][2] and game_state[1][0] is not ' '):\n",
    "        return game_state[1][0], \"Done\"\n",
    "    if (game_state[2][0] == game_state[2][1] and game_state[2][1] == game_state[2][2] and game_state[2][0] is not ' '):\n",
    "        return game_state[2][0], \"Done\"\n",
    "    \n",
    "    # Check verticals\n",
    "    if (game_state[0][0] == game_state[1][0] and game_state[1][0] == game_state[2][0] and game_state[0][0] is not ' '):\n",
    "        return game_state[0][0], \"Done\"\n",
    "    if (game_state[0][1] == game_state[1][1] and game_state[1][1] == game_state[2][1] and game_state[0][1] is not ' '):\n",
    "        return game_state[0][1], \"Done\"\n",
    "    if (game_state[0][2] == game_state[1][2] and game_state[1][2] == game_state[2][2] and game_state[0][2] is not ' '):\n",
    "        return game_state[0][2], \"Done\"\n",
    "    \n",
    "    # Check diagonals\n",
    "    if (game_state[0][0] == game_state[1][1] and game_state[1][1] == game_state[2][2] and game_state[0][0] is not ' '):\n",
    "        return game_state[1][1], \"Done\"\n",
    "    if (game_state[2][0] == game_state[1][1] and game_state[1][1] == game_state[0][2] and game_state[2][0] is not ' '):\n",
    "        return game_state[1][1], \"Done\"\n",
    "    \n",
    "    # Check if draw\n",
    "    draw_flag = 0\n",
    "    for i in range(3):\n",
    "        for j in range(3):\n",
    "            if game_state[i][j] is ' ':\n",
    "                draw_flag = 1\n",
    "    if draw_flag is 0:\n",
    "        return None, \"Draw\"\n",
    "    \n",
    "    return None, \"Not Done\""
   ]
  },
  {
   "cell_type": "code",
   "execution_count": 6,
   "metadata": {
    "ExecuteTime": {
     "end_time": "2019-10-13T06:13:32.995378Z",
     "start_time": "2019-10-13T06:13:32.695504Z"
    }
   },
   "outputs": [],
   "source": [
    "def print_board(game_state):\n",
    "    print('----------------')\n",
    "    print('| ' + str(game_state[0][0]) + ' || ' + str(game_state[0][1]) + ' || ' + str(game_state[0][2]) + ' |')\n",
    "    print('----------------')\n",
    "    print('| ' + str(game_state[1][0]) + ' || ' + str(game_state[1][1]) + ' || ' + str(game_state[1][2]) + ' |')\n",
    "    print('----------------')\n",
    "    print('| ' + str(game_state[2][0]) + ' || ' + str(game_state[2][1]) + ' || ' + str(game_state[2][2]) + ' |')\n",
    "    print('----------------')"
   ]
  },
  {
   "cell_type": "code",
   "execution_count": 7,
   "metadata": {
    "ExecuteTime": {
     "end_time": "2019-10-13T06:13:33.241164Z",
     "start_time": "2019-10-13T06:13:33.001397Z"
    }
   },
   "outputs": [
    {
     "name": "stdout",
     "output_type": "stream",
     "text": [
      "n_states = 19683 \n",
      "n_actions = 9\n"
     ]
    }
   ],
   "source": [
    "# Initialize state values\n",
    "player = ['X','O',' ']\n",
    "states_dict = {}\n",
    "all_possible_states = [[list(i[0:3]),list(i[3:6]),list(i[6:10])] for i in itertools.product(player, repeat = 9)]\n",
    "n_states = len(all_possible_states) # 2 players, 9 spaces\n",
    "n_actions = 9   # 9 spaces\n",
    "state_values_for_AI_O = np.full((n_states),0.0)\n",
    "state_values_for_AI_X = np.full((n_states),0.0)\n",
    "print(\"n_states = %i \\nn_actions = %i\"%(n_states, n_actions))"
   ]
  },
  {
   "cell_type": "code",
   "execution_count": 8,
   "metadata": {
    "ExecuteTime": {
     "end_time": "2019-10-13T06:13:33.581499Z",
     "start_time": "2019-10-13T06:13:33.245122Z"
    }
   },
   "outputs": [],
   "source": [
    "# State values for AI 'O'\n",
    "for i in range(n_states):\n",
    "    states_dict[i] = all_possible_states[i]\n",
    "    winner, _ = check_current_state(states_dict[i])\n",
    "    if winner == 'O':   # AI won\n",
    "        state_values_for_AI_O[i] = 1\n",
    "    elif winner == 'X':   # AI lost\n",
    "        state_values_for_AI_O[i] = -1\n",
    "        \n",
    "# State values for AI 'X'       \n",
    "for i in range(n_states):\n",
    "    winner, _ = check_current_state(states_dict[i])\n",
    "    if winner == 'O':   # AI lost\n",
    "        state_values_for_AI_X[i] = -1\n",
    "    elif winner == 'X':   # AI won\n",
    "        state_values_for_AI_X[i] = 1"
   ]
  },
  {
   "cell_type": "code",
   "execution_count": null,
   "metadata": {
    "ExecuteTime": {
     "start_time": "2019-10-13T06:13:31.909Z"
    }
   },
   "outputs": [],
   "source": [
    "# Save state values for future use\n",
    "np.savetxt('trained_state_values_X.txt', state_values_for_AI_X, fmt = '%.6f')\n",
    "np.savetxt('trained_state_values_O.txt', state_values_for_AI_O, fmt = '%.6f')"
   ]
  },
  {
   "cell_type": "code",
   "execution_count": null,
   "metadata": {
    "ExecuteTime": {
     "start_time": "2019-10-13T06:13:31.912Z"
    }
   },
   "outputs": [],
   "source": [
    "def update_state_value_O(curr_state_idx, next_state_idx, learning_rate):\n",
    "    new_value = state_values_for_AI_O[curr_state_idx] + learning_rate*(state_values_for_AI_O[next_state_idx]  - state_values_for_AI_O[curr_state_idx])\n",
    "    state_values_for_AI_O[curr_state_idx] = new_value\n",
    "    \n",
    "def update_state_value_X(curr_state_idx, next_state_idx, learning_rate):\n",
    "    new_value = state_values_for_AI_X[curr_state_idx] + learning_rate*(state_values_for_AI_X[next_state_idx]  - state_values_for_AI_X[curr_state_idx])\n",
    "    state_values_for_AI_X[curr_state_idx] = new_value"
   ]
  },
  {
   "cell_type": "code",
   "execution_count": null,
   "metadata": {
    "ExecuteTime": {
     "start_time": "2019-10-13T06:13:31.916Z"
    }
   },
   "outputs": [],
   "source": [
    "def getBestMove(state, player, epsilon):\n",
    "    '''\n",
    "    Reinforcement Learning Algorithm\n",
    "    '''    \n",
    "    moves = []\n",
    "    curr_state_values = []\n",
    "    empty_cells = []\n",
    "    for i in range(3):\n",
    "        for j in range(3):\n",
    "            if state[i][j] is ' ':\n",
    "                empty_cells.append(i*3 + (j+1))\n",
    "    \n",
    "    for empty_cell in empty_cells:\n",
    "        moves.append(empty_cell)\n",
    "        new_state = copy_game_state(state)\n",
    "        play_move(new_state, player, empty_cell)\n",
    "        next_state_idx = list(states_dict.keys())[list(states_dict.values()).index(new_state)]\n",
    "        if player == 'X':\n",
    "            curr_state_values.append(state_values_for_AI_X[next_state_idx])\n",
    "        else:\n",
    "            curr_state_values.append(state_values_for_AI_O[next_state_idx])\n",
    "        \n",
    "    print('Possible moves = ' + str(moves))\n",
    "    print('Move values = ' + str(curr_state_values))    \n",
    "    best_move_idx = np.argmax(curr_state_values)\n",
    "    \n",
    "    if np.random.uniform(0,1) <= epsilon:       # Exploration\n",
    "        best_move = random.choice(empty_cells)\n",
    "        print('Agent decides to explore! Takes action = ' + str(best_move))\n",
    "        epsilon *= 0.99\n",
    "    else:   #Exploitation\n",
    "        best_move = moves[best_move_idx]\n",
    "        print('Agent decides to exploit! Takes action = ' + str(best_move))\n",
    "    return best_move"
   ]
  },
  {
   "cell_type": "code",
   "execution_count": null,
   "metadata": {
    "ExecuteTime": {
     "start_time": "2019-10-13T06:13:31.919Z"
    },
    "scrolled": true
   },
   "outputs": [
    {
     "name": "stdout",
     "output_type": "stream",
     "text": [
      "\n",
      "Iteration 2941!\n",
      "----------------\n",
      "|   ||   ||   |\n",
      "----------------\n",
      "|   ||   ||   |\n",
      "----------------\n",
      "|   ||   ||   |\n",
      "----------------\n",
      "\n",
      "AI O's turn!\n",
      "Possible moves = [1, 2, 3, 4, 5, 6, 7, 8, 9]\n",
      "Move values = [-0.05167037016311206, -0.02389947537446029, -0.03593882944768576, -0.022643585995756388, 0.04750701966228094, -0.03950388514119497, -0.04164225047877288, -0.01695185585660567, -0.013714114670242358]\n",
      "Agent decides to exploit! Takes action = 5\n",
      "----------------\n",
      "|   ||   ||   |\n",
      "----------------\n",
      "|   || O ||   |\n",
      "----------------\n",
      "|   ||   ||   |\n",
      "----------------\n",
      "\n",
      "AI X's turn!\n",
      "Possible moves = [1, 2, 3, 4, 6, 7, 8, 9]\n",
      "Move values = [-0.069695633715042, -0.06092176993348893, -0.05174206792056516, -0.05513305780364851, -0.06360627045495745, -0.0758475157719465, -0.0723067371787511, -0.05216812079258847]\n",
      "Agent decides to exploit! Takes action = 3\n",
      "----------------\n",
      "|   ||   || X |\n",
      "----------------\n",
      "|   || O ||   |\n",
      "----------------\n",
      "|   ||   ||   |\n",
      "----------------\n",
      "\n",
      "AI O's turn!\n",
      "Possible moves = [1, 2, 4, 6, 7, 8, 9]\n",
      "Move values = [-0.03200000000000001, -0.03687680000000001, -0.008000000000000002, 0.055253971458274105, -0.062272, 0.0, 0.0]\n",
      "Agent decides to exploit! Takes action = 6\n",
      "----------------\n",
      "|   ||   || X |\n",
      "----------------\n",
      "|   || O || O |\n",
      "----------------\n",
      "|   ||   ||   |\n",
      "----------------\n",
      "\n",
      "AI X's turn!\n",
      "Possible moves = [1, 2, 4, 7, 8, 9]\n",
      "Move values = [-0.4304, -0.19039999999999996, -0.04224188416, -0.128, -0.1024, -0.16]\n",
      "Agent decides to exploit! Takes action = 4\n",
      "----------------\n",
      "|   ||   || X |\n",
      "----------------\n",
      "| X || O || O |\n",
      "----------------\n",
      "|   ||   ||   |\n",
      "----------------\n",
      "\n",
      "AI O's turn!\n",
      "Possible moves = [1, 2, 7, 8, 9]\n",
      "Move values = [0.0303038464, 0.0, 0.0, 0.0, 0.0]\n",
      "Agent decides to exploit! Takes action = 1\n",
      "----------------\n",
      "| O ||   || X |\n",
      "----------------\n",
      "| X || O || O |\n",
      "----------------\n",
      "|   ||   ||   |\n",
      "----------------\n",
      "\n",
      "AI X's turn!\n",
      "Possible moves = [2, 7, 8, 9]\n",
      "Move values = [-0.488, -0.2, -0.16, 0.0]\n",
      "Agent decides to exploit! Takes action = 9\n",
      "----------------\n",
      "| O ||   || X |\n",
      "----------------\n",
      "| X || O || O |\n",
      "----------------\n",
      "|   ||   || X |\n",
      "----------------\n",
      "\n",
      "AI O's turn!\n",
      "Possible moves = [2, 7, 8]\n",
      "Move values = [-0.04000000000000001, 0.0, 0.0]\n",
      "Agent decides to exploit! Takes action = 7\n",
      "----------------\n",
      "| O ||   || X |\n",
      "----------------\n",
      "| X || O || O |\n",
      "----------------\n",
      "| O ||   || X |\n",
      "----------------\n"
     ]
    }
   ],
   "source": [
    "# PLaying\n",
    "\n",
    "#LOAD TRAINED STATE VALUES\n",
    "state_values_for_AI_X = np.loadtxt('trained_state_values_X.txt', dtype=np.float64)\n",
    "state_values_for_AI_O = np.loadtxt('trained_state_values_O.txt', dtype=np.float64)\n",
    "\n",
    "learning_rate = 0.2\n",
    "epsilon = 0.2\n",
    "num_iterations = 100000\n",
    "for iteration in range(num_iterations):\n",
    "    game_state = [[' ',' ',' '],\n",
    "              [' ',' ',' '],\n",
    "              [' ',' ',' ']]\n",
    "    current_state = \"Not Done\"\n",
    "    print(\"\\nIteration \" + str(iteration) + \"!\")\n",
    "    print_board(game_state)\n",
    "    winner = None\n",
    "    current_player_idx = random.choice([0,1])\n",
    "        \n",
    "    while current_state == \"Not Done\":\n",
    "        curr_state_idx = list(states_dict.keys())[list(states_dict.values()).index(game_state)]\n",
    "        if current_player_idx == 0:     # AI_X's turn\n",
    "            print(\"\\nAI X's turn!\")         \n",
    "            block_choice = getBestMove(game_state, players[current_player_idx], epsilon)\n",
    "            play_move(game_state ,players[current_player_idx], block_choice)\n",
    "            new_state_idx = list(states_dict.keys())[list(states_dict.values()).index(game_state)]\n",
    "            \n",
    "        else:       # AI_O's turn\n",
    "            print(\"\\nAI O's turn!\")   \n",
    "            block_choice = getBestMove(game_state, players[current_player_idx], epsilon)\n",
    "            play_move(game_state ,players[current_player_idx], block_choice)\n",
    "            new_state_idx = list(states_dict.keys())[list(states_dict.values()).index(game_state)]\n",
    "        \n",
    "        print_board(game_state)\n",
    "        #print('State value = ' + str(state_values_for_AI[new_state_idx]))\n",
    "        update_state_value_O(curr_state_idx, new_state_idx, learning_rate)\n",
    "        update_state_value_X(curr_state_idx, new_state_idx, learning_rate)\n",
    "        winner, current_state = check_current_state(game_state)\n",
    "        if winner is not None:\n",
    "            print(str(winner) + \" won!\")\n",
    "        else:\n",
    "            current_player_idx = (current_player_idx + 1)%2\n",
    "        \n",
    "        if current_state is \"Draw\":\n",
    "            print(\"Draw!\")\n",
    "            \n",
    "        time.sleep(1)\n",
    "    clear_output(wait=True)\n",
    "    if iteration %100 == 0:\n",
    "        np.savetxt('trained_state_values_X.txt', state_values_for_AI_X, fmt = '%.6f')\n",
    "        np.savetxt('trained_state_values_O.txt', state_values_for_AI_O, fmt = '%.6f')\n",
    "print('Training Complete!')    "
   ]
  },
  {
   "cell_type": "code",
   "execution_count": null,
   "metadata": {
    "ExecuteTime": {
     "start_time": "2019-10-13T06:13:31.922Z"
    }
   },
   "outputs": [],
   "source": [
    "np.savetxt('trained_state_values_X.txt', state_values_for_AI_X, fmt = '%.6f')\n",
    "np.savetxt('trained_state_values_O.txt', state_values_for_AI_O, fmt = '%.6f')"
   ]
  },
  {
   "cell_type": "code",
   "execution_count": null,
   "metadata": {},
   "outputs": [],
   "source": []
  }
 ],
 "metadata": {
  "kernelspec": {
   "display_name": "Python 3",
   "language": "python",
   "name": "python3"
  },
  "language_info": {
   "codemirror_mode": {
    "name": "ipython",
    "version": 3
   },
   "file_extension": ".py",
   "mimetype": "text/x-python",
   "name": "python",
   "nbconvert_exporter": "python",
   "pygments_lexer": "ipython3",
   "version": "3.7.3"
  },
  "toc": {
   "base_numbering": 1,
   "nav_menu": {},
   "number_sections": true,
   "sideBar": true,
   "skip_h1_title": false,
   "title_cell": "Table of Contents",
   "title_sidebar": "Contents",
   "toc_cell": false,
   "toc_position": {},
   "toc_section_display": true,
   "toc_window_display": false
  },
  "varInspector": {
   "cols": {
    "lenName": 16,
    "lenType": 16,
    "lenVar": 40
   },
   "kernels_config": {
    "python": {
     "delete_cmd_postfix": "",
     "delete_cmd_prefix": "del ",
     "library": "var_list.py",
     "varRefreshCmd": "print(var_dic_list())"
    },
    "r": {
     "delete_cmd_postfix": ") ",
     "delete_cmd_prefix": "rm(",
     "library": "var_list.r",
     "varRefreshCmd": "cat(var_dic_list()) "
    }
   },
   "types_to_exclude": [
    "module",
    "function",
    "builtin_function_or_method",
    "instance",
    "_Feature"
   ],
   "window_display": false
  }
 },
 "nbformat": 4,
 "nbformat_minor": 2
}
